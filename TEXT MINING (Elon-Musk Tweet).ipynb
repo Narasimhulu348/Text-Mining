{
 "cells": [
  {
   "cell_type": "code",
   "execution_count": 1,
   "id": "0ba62124",
   "metadata": {},
   "outputs": [],
   "source": [
    "import re\n",
    "import pandas as pd\n",
    "import numpy as np\n",
    "import warnings\n",
    "warnings.filterwarnings(\"ignore\")"
   ]
  },
  {
   "cell_type": "code",
   "execution_count": 2,
   "id": "5c5a1819",
   "metadata": {},
   "outputs": [
    {
     "name": "stdout",
     "output_type": "stream",
     "text": [
      " Volume in drive C is OS\n",
      " Volume Serial Number is 42A7-BDFB\n",
      "\n",
      " Directory of C:\\Users\\Narasimhulu E\\Documents\\Assingnments\\Text Mining\n",
      "\n",
      "05/10/2023  01:11 PM    <DIR>          .\n",
      "04/26/2023  11:04 PM    <DIR>          ..\n",
      "04/26/2023  06:54 PM    <DIR>          .ipynb_checkpoints\n",
      "02/21/2023  07:48 PM               211 Assignment.txt\n",
      "02/21/2023  07:49 PM           170,848 Elon_musk.csv\n",
      "02/21/2023  07:48 PM            46,299 negative-words.txt\n",
      "02/21/2023  07:48 PM            20,630 positive-words.txt\n",
      "02/21/2023  07:48 PM             4,158 stop.txt\n",
      "05/10/2023  01:11 PM           443,059 TEXT MINING (Elon-Musk Tweet).ipynb\n",
      "               6 File(s)        685,205 bytes\n",
      "               3 Dir(s)  42,597,904,384 bytes free\n"
     ]
    }
   ],
   "source": [
    "ls"
   ]
  },
  {
   "cell_type": "code",
   "execution_count": 3,
   "id": "73f5508e",
   "metadata": {},
   "outputs": [],
   "source": [
    "data=pd.read_csv(\"Elon_musk.csv\", encoding='unicode_escape')"
   ]
  },
  {
   "cell_type": "code",
   "execution_count": 4,
   "id": "9622d258",
   "metadata": {},
   "outputs": [
    {
     "data": {
      "text/html": [
       "<div>\n",
       "<style scoped>\n",
       "    .dataframe tbody tr th:only-of-type {\n",
       "        vertical-align: middle;\n",
       "    }\n",
       "\n",
       "    .dataframe tbody tr th {\n",
       "        vertical-align: top;\n",
       "    }\n",
       "\n",
       "    .dataframe thead th {\n",
       "        text-align: right;\n",
       "    }\n",
       "</style>\n",
       "<table border=\"1\" class=\"dataframe\">\n",
       "  <thead>\n",
       "    <tr style=\"text-align: right;\">\n",
       "      <th></th>\n",
       "      <th>Unnamed: 0</th>\n",
       "      <th>Text</th>\n",
       "    </tr>\n",
       "  </thead>\n",
       "  <tbody>\n",
       "    <tr>\n",
       "      <th>0</th>\n",
       "      <td>1</td>\n",
       "      <td>@kunalb11 Im an alien</td>\n",
       "    </tr>\n",
       "    <tr>\n",
       "      <th>1</th>\n",
       "      <td>2</td>\n",
       "      <td>@ID_AA_Carmack Ray tracing on Cyberpunk with H...</td>\n",
       "    </tr>\n",
       "    <tr>\n",
       "      <th>2</th>\n",
       "      <td>3</td>\n",
       "      <td>@joerogan @Spotify Great interview!</td>\n",
       "    </tr>\n",
       "    <tr>\n",
       "      <th>3</th>\n",
       "      <td>4</td>\n",
       "      <td>@gtera27 Doge is underestimated</td>\n",
       "    </tr>\n",
       "    <tr>\n",
       "      <th>4</th>\n",
       "      <td>5</td>\n",
       "      <td>@teslacn Congratulations Tesla China for amazi...</td>\n",
       "    </tr>\n",
       "    <tr>\n",
       "      <th>...</th>\n",
       "      <td>...</td>\n",
       "      <td>...</td>\n",
       "    </tr>\n",
       "    <tr>\n",
       "      <th>1994</th>\n",
       "      <td>1995</td>\n",
       "      <td>@flcnhvy True, it sounds so surreal, but the n...</td>\n",
       "    </tr>\n",
       "    <tr>\n",
       "      <th>1995</th>\n",
       "      <td>1996</td>\n",
       "      <td>@PPathole Make sure to read ur terms &amp;amp; con...</td>\n",
       "    </tr>\n",
       "    <tr>\n",
       "      <th>1996</th>\n",
       "      <td>1997</td>\n",
       "      <td>@TeslaGong @PPathole Samwise Gamgee</td>\n",
       "    </tr>\n",
       "    <tr>\n",
       "      <th>1997</th>\n",
       "      <td>1998</td>\n",
       "      <td>@PPathole Altho Dumb and Dumber is &lt;U+0001F525...</td>\n",
       "    </tr>\n",
       "    <tr>\n",
       "      <th>1998</th>\n",
       "      <td>1999</td>\n",
       "      <td>Progress update August 28</td>\n",
       "    </tr>\n",
       "  </tbody>\n",
       "</table>\n",
       "<p>1999 rows × 2 columns</p>\n",
       "</div>"
      ],
      "text/plain": [
       "      Unnamed: 0                                               Text\n",
       "0              1                             @kunalb11 Im an alien\n",
       "1              2  @ID_AA_Carmack Ray tracing on Cyberpunk with H...\n",
       "2              3                @joerogan @Spotify Great interview!\n",
       "3              4                    @gtera27 Doge is underestimated\n",
       "4              5  @teslacn Congratulations Tesla China for amazi...\n",
       "...          ...                                                ...\n",
       "1994        1995  @flcnhvy True, it sounds so surreal, but the n...\n",
       "1995        1996  @PPathole Make sure to read ur terms &amp; con...\n",
       "1996        1997                @TeslaGong @PPathole Samwise Gamgee\n",
       "1997        1998  @PPathole Altho Dumb and Dumber is <U+0001F525...\n",
       "1998        1999                          Progress update August 28\n",
       "\n",
       "[1999 rows x 2 columns]"
      ]
     },
     "execution_count": 4,
     "metadata": {},
     "output_type": "execute_result"
    }
   ],
   "source": [
    "data"
   ]
  },
  {
   "cell_type": "markdown",
   "id": "e3d75197",
   "metadata": {},
   "source": [
    "# performing EDA"
   ]
  },
  {
   "cell_type": "code",
   "execution_count": 5,
   "id": "e9799c6e",
   "metadata": {},
   "outputs": [
    {
     "data": {
      "text/plain": [
       "Unnamed: 0    0\n",
       "Text          0\n",
       "dtype: int64"
      ]
     },
     "execution_count": 5,
     "metadata": {},
     "output_type": "execute_result"
    }
   ],
   "source": [
    "data.isna().sum()"
   ]
  },
  {
   "cell_type": "code",
   "execution_count": 6,
   "id": "fd9be832",
   "metadata": {},
   "outputs": [
    {
     "data": {
      "text/plain": [
       "0"
      ]
     },
     "execution_count": 6,
     "metadata": {},
     "output_type": "execute_result"
    }
   ],
   "source": [
    "data.duplicated().sum()"
   ]
  },
  {
   "cell_type": "code",
   "execution_count": 7,
   "id": "82aebf28",
   "metadata": {},
   "outputs": [],
   "source": [
    "data=data.drop(columns=('Unnamed: 0'),axis=1)"
   ]
  },
  {
   "cell_type": "code",
   "execution_count": 8,
   "id": "3ba73161",
   "metadata": {},
   "outputs": [
    {
     "data": {
      "text/html": [
       "<div>\n",
       "<style scoped>\n",
       "    .dataframe tbody tr th:only-of-type {\n",
       "        vertical-align: middle;\n",
       "    }\n",
       "\n",
       "    .dataframe tbody tr th {\n",
       "        vertical-align: top;\n",
       "    }\n",
       "\n",
       "    .dataframe thead th {\n",
       "        text-align: right;\n",
       "    }\n",
       "</style>\n",
       "<table border=\"1\" class=\"dataframe\">\n",
       "  <thead>\n",
       "    <tr style=\"text-align: right;\">\n",
       "      <th></th>\n",
       "      <th>Text</th>\n",
       "    </tr>\n",
       "  </thead>\n",
       "  <tbody>\n",
       "    <tr>\n",
       "      <th>0</th>\n",
       "      <td>@kunalb11 Im an alien</td>\n",
       "    </tr>\n",
       "    <tr>\n",
       "      <th>1</th>\n",
       "      <td>@ID_AA_Carmack Ray tracing on Cyberpunk with H...</td>\n",
       "    </tr>\n",
       "    <tr>\n",
       "      <th>2</th>\n",
       "      <td>@joerogan @Spotify Great interview!</td>\n",
       "    </tr>\n",
       "    <tr>\n",
       "      <th>3</th>\n",
       "      <td>@gtera27 Doge is underestimated</td>\n",
       "    </tr>\n",
       "    <tr>\n",
       "      <th>4</th>\n",
       "      <td>@teslacn Congratulations Tesla China for amazi...</td>\n",
       "    </tr>\n",
       "    <tr>\n",
       "      <th>...</th>\n",
       "      <td>...</td>\n",
       "    </tr>\n",
       "    <tr>\n",
       "      <th>1994</th>\n",
       "      <td>@flcnhvy True, it sounds so surreal, but the n...</td>\n",
       "    </tr>\n",
       "    <tr>\n",
       "      <th>1995</th>\n",
       "      <td>@PPathole Make sure to read ur terms &amp;amp; con...</td>\n",
       "    </tr>\n",
       "    <tr>\n",
       "      <th>1996</th>\n",
       "      <td>@TeslaGong @PPathole Samwise Gamgee</td>\n",
       "    </tr>\n",
       "    <tr>\n",
       "      <th>1997</th>\n",
       "      <td>@PPathole Altho Dumb and Dumber is &lt;U+0001F525...</td>\n",
       "    </tr>\n",
       "    <tr>\n",
       "      <th>1998</th>\n",
       "      <td>Progress update August 28</td>\n",
       "    </tr>\n",
       "  </tbody>\n",
       "</table>\n",
       "<p>1999 rows × 1 columns</p>\n",
       "</div>"
      ],
      "text/plain": [
       "                                                   Text\n",
       "0                                @kunalb11 Im an alien\n",
       "1     @ID_AA_Carmack Ray tracing on Cyberpunk with H...\n",
       "2                   @joerogan @Spotify Great interview!\n",
       "3                       @gtera27 Doge is underestimated\n",
       "4     @teslacn Congratulations Tesla China for amazi...\n",
       "...                                                 ...\n",
       "1994  @flcnhvy True, it sounds so surreal, but the n...\n",
       "1995  @PPathole Make sure to read ur terms &amp; con...\n",
       "1996                @TeslaGong @PPathole Samwise Gamgee\n",
       "1997  @PPathole Altho Dumb and Dumber is <U+0001F525...\n",
       "1998                          Progress update August 28\n",
       "\n",
       "[1999 rows x 1 columns]"
      ]
     },
     "execution_count": 8,
     "metadata": {},
     "output_type": "execute_result"
    }
   ],
   "source": [
    "data"
   ]
  },
  {
   "cell_type": "markdown",
   "id": "030c8746",
   "metadata": {},
   "source": [
    "# Preprocessing"
   ]
  },
  {
   "cell_type": "markdown",
   "id": "baf9680c",
   "metadata": {},
   "source": [
    "# step 1:- Remove space and symbol"
   ]
  },
  {
   "cell_type": "code",
   "execution_count": 9,
   "id": "506888d3",
   "metadata": {},
   "outputs": [],
   "source": [
    "data.Text=data.Text.apply(lambda x: re.sub('[^a-zA-Z]', \"\", x))"
   ]
  },
  {
   "cell_type": "code",
   "execution_count": 10,
   "id": "6254e4c2",
   "metadata": {},
   "outputs": [
    {
     "data": {
      "text/html": [
       "<div>\n",
       "<style scoped>\n",
       "    .dataframe tbody tr th:only-of-type {\n",
       "        vertical-align: middle;\n",
       "    }\n",
       "\n",
       "    .dataframe tbody tr th {\n",
       "        vertical-align: top;\n",
       "    }\n",
       "\n",
       "    .dataframe thead th {\n",
       "        text-align: right;\n",
       "    }\n",
       "</style>\n",
       "<table border=\"1\" class=\"dataframe\">\n",
       "  <thead>\n",
       "    <tr style=\"text-align: right;\">\n",
       "      <th></th>\n",
       "      <th>Text</th>\n",
       "    </tr>\n",
       "  </thead>\n",
       "  <tbody>\n",
       "    <tr>\n",
       "      <th>0</th>\n",
       "      <td>kunalbImanalien</td>\n",
       "    </tr>\n",
       "    <tr>\n",
       "      <th>1</th>\n",
       "      <td>IDAACarmackRaytracingonCyberpunkwithHDRisnextl...</td>\n",
       "    </tr>\n",
       "    <tr>\n",
       "      <th>2</th>\n",
       "      <td>joeroganSpotifyGreatinterview</td>\n",
       "    </tr>\n",
       "    <tr>\n",
       "      <th>3</th>\n",
       "      <td>gteraDogeisunderestimated</td>\n",
       "    </tr>\n",
       "    <tr>\n",
       "      <th>4</th>\n",
       "      <td>teslacnCongratulationsTeslaChinaforamazingexec...</td>\n",
       "    </tr>\n",
       "    <tr>\n",
       "      <th>...</th>\n",
       "      <td>...</td>\n",
       "    </tr>\n",
       "    <tr>\n",
       "      <th>1994</th>\n",
       "      <td>flcnhvyTrueitsoundssosurrealbutthenegativeprop...</td>\n",
       "    </tr>\n",
       "    <tr>\n",
       "      <th>1995</th>\n",
       "      <td>PPatholeMakesuretoreadurtermsampconditionsbefo...</td>\n",
       "    </tr>\n",
       "    <tr>\n",
       "      <th>1996</th>\n",
       "      <td>TeslaGongPPatholeSamwiseGamgee</td>\n",
       "    </tr>\n",
       "    <tr>\n",
       "      <th>1997</th>\n",
       "      <td>PPatholeAlthoDumbandDumberisUFUF</td>\n",
       "    </tr>\n",
       "    <tr>\n",
       "      <th>1998</th>\n",
       "      <td>ProgressupdateAugust</td>\n",
       "    </tr>\n",
       "  </tbody>\n",
       "</table>\n",
       "<p>1999 rows × 1 columns</p>\n",
       "</div>"
      ],
      "text/plain": [
       "                                                   Text\n",
       "0                                       kunalbImanalien\n",
       "1     IDAACarmackRaytracingonCyberpunkwithHDRisnextl...\n",
       "2                         joeroganSpotifyGreatinterview\n",
       "3                             gteraDogeisunderestimated\n",
       "4     teslacnCongratulationsTeslaChinaforamazingexec...\n",
       "...                                                 ...\n",
       "1994  flcnhvyTrueitsoundssosurrealbutthenegativeprop...\n",
       "1995  PPatholeMakesuretoreadurtermsampconditionsbefo...\n",
       "1996                     TeslaGongPPatholeSamwiseGamgee\n",
       "1997                   PPatholeAlthoDumbandDumberisUFUF\n",
       "1998                               ProgressupdateAugust\n",
       "\n",
       "[1999 rows x 1 columns]"
      ]
     },
     "execution_count": 10,
     "metadata": {},
     "output_type": "execute_result"
    }
   ],
   "source": [
    "data"
   ]
  },
  {
   "cell_type": "markdown",
   "id": "59f7797d",
   "metadata": {},
   "source": [
    "# step 2:-make text to lower"
   ]
  },
  {
   "cell_type": "code",
   "execution_count": 11,
   "id": "2671e762",
   "metadata": {},
   "outputs": [],
   "source": [
    "data.Text=data.Text.apply(lambda x: x.lower())"
   ]
  },
  {
   "cell_type": "code",
   "execution_count": 12,
   "id": "4c6bf444",
   "metadata": {},
   "outputs": [
    {
     "data": {
      "text/html": [
       "<div>\n",
       "<style scoped>\n",
       "    .dataframe tbody tr th:only-of-type {\n",
       "        vertical-align: middle;\n",
       "    }\n",
       "\n",
       "    .dataframe tbody tr th {\n",
       "        vertical-align: top;\n",
       "    }\n",
       "\n",
       "    .dataframe thead th {\n",
       "        text-align: right;\n",
       "    }\n",
       "</style>\n",
       "<table border=\"1\" class=\"dataframe\">\n",
       "  <thead>\n",
       "    <tr style=\"text-align: right;\">\n",
       "      <th></th>\n",
       "      <th>Text</th>\n",
       "    </tr>\n",
       "  </thead>\n",
       "  <tbody>\n",
       "    <tr>\n",
       "      <th>0</th>\n",
       "      <td>kunalbimanalien</td>\n",
       "    </tr>\n",
       "    <tr>\n",
       "      <th>1</th>\n",
       "      <td>idaacarmackraytracingoncyberpunkwithhdrisnextl...</td>\n",
       "    </tr>\n",
       "    <tr>\n",
       "      <th>2</th>\n",
       "      <td>joeroganspotifygreatinterview</td>\n",
       "    </tr>\n",
       "    <tr>\n",
       "      <th>3</th>\n",
       "      <td>gteradogeisunderestimated</td>\n",
       "    </tr>\n",
       "    <tr>\n",
       "      <th>4</th>\n",
       "      <td>teslacncongratulationsteslachinaforamazingexec...</td>\n",
       "    </tr>\n",
       "    <tr>\n",
       "      <th>...</th>\n",
       "      <td>...</td>\n",
       "    </tr>\n",
       "    <tr>\n",
       "      <th>1994</th>\n",
       "      <td>flcnhvytrueitsoundssosurrealbutthenegativeprop...</td>\n",
       "    </tr>\n",
       "    <tr>\n",
       "      <th>1995</th>\n",
       "      <td>ppatholemakesuretoreadurtermsampconditionsbefo...</td>\n",
       "    </tr>\n",
       "    <tr>\n",
       "      <th>1996</th>\n",
       "      <td>teslagongppatholesamwisegamgee</td>\n",
       "    </tr>\n",
       "    <tr>\n",
       "      <th>1997</th>\n",
       "      <td>ppatholealthodumbanddumberisufuf</td>\n",
       "    </tr>\n",
       "    <tr>\n",
       "      <th>1998</th>\n",
       "      <td>progressupdateaugust</td>\n",
       "    </tr>\n",
       "  </tbody>\n",
       "</table>\n",
       "<p>1999 rows × 1 columns</p>\n",
       "</div>"
      ],
      "text/plain": [
       "                                                   Text\n",
       "0                                       kunalbimanalien\n",
       "1     idaacarmackraytracingoncyberpunkwithhdrisnextl...\n",
       "2                         joeroganspotifygreatinterview\n",
       "3                             gteradogeisunderestimated\n",
       "4     teslacncongratulationsteslachinaforamazingexec...\n",
       "...                                                 ...\n",
       "1994  flcnhvytrueitsoundssosurrealbutthenegativeprop...\n",
       "1995  ppatholemakesuretoreadurtermsampconditionsbefo...\n",
       "1996                     teslagongppatholesamwisegamgee\n",
       "1997                   ppatholealthodumbanddumberisufuf\n",
       "1998                               progressupdateaugust\n",
       "\n",
       "[1999 rows x 1 columns]"
      ]
     },
     "execution_count": 12,
     "metadata": {},
     "output_type": "execute_result"
    }
   ],
   "source": [
    "data"
   ]
  },
  {
   "cell_type": "markdown",
   "id": "a9101521",
   "metadata": {},
   "source": [
    "# Step 3:- Splitting the words from line"
   ]
  },
  {
   "cell_type": "code",
   "execution_count": 13,
   "id": "23a0f994",
   "metadata": {},
   "outputs": [],
   "source": [
    "data.Text=data.Text.apply(lambda x: x.split())"
   ]
  },
  {
   "cell_type": "code",
   "execution_count": 14,
   "id": "e2a7b2fd",
   "metadata": {},
   "outputs": [
    {
     "data": {
      "text/html": [
       "<div>\n",
       "<style scoped>\n",
       "    .dataframe tbody tr th:only-of-type {\n",
       "        vertical-align: middle;\n",
       "    }\n",
       "\n",
       "    .dataframe tbody tr th {\n",
       "        vertical-align: top;\n",
       "    }\n",
       "\n",
       "    .dataframe thead th {\n",
       "        text-align: right;\n",
       "    }\n",
       "</style>\n",
       "<table border=\"1\" class=\"dataframe\">\n",
       "  <thead>\n",
       "    <tr style=\"text-align: right;\">\n",
       "      <th></th>\n",
       "      <th>Text</th>\n",
       "    </tr>\n",
       "  </thead>\n",
       "  <tbody>\n",
       "    <tr>\n",
       "      <th>0</th>\n",
       "      <td>[kunalbimanalien]</td>\n",
       "    </tr>\n",
       "    <tr>\n",
       "      <th>1</th>\n",
       "      <td>[idaacarmackraytracingoncyberpunkwithhdrisnext...</td>\n",
       "    </tr>\n",
       "    <tr>\n",
       "      <th>2</th>\n",
       "      <td>[joeroganspotifygreatinterview]</td>\n",
       "    </tr>\n",
       "    <tr>\n",
       "      <th>3</th>\n",
       "      <td>[gteradogeisunderestimated]</td>\n",
       "    </tr>\n",
       "    <tr>\n",
       "      <th>4</th>\n",
       "      <td>[teslacncongratulationsteslachinaforamazingexe...</td>\n",
       "    </tr>\n",
       "    <tr>\n",
       "      <th>...</th>\n",
       "      <td>...</td>\n",
       "    </tr>\n",
       "    <tr>\n",
       "      <th>1994</th>\n",
       "      <td>[flcnhvytrueitsoundssosurrealbutthenegativepro...</td>\n",
       "    </tr>\n",
       "    <tr>\n",
       "      <th>1995</th>\n",
       "      <td>[ppatholemakesuretoreadurtermsampconditionsbef...</td>\n",
       "    </tr>\n",
       "    <tr>\n",
       "      <th>1996</th>\n",
       "      <td>[teslagongppatholesamwisegamgee]</td>\n",
       "    </tr>\n",
       "    <tr>\n",
       "      <th>1997</th>\n",
       "      <td>[ppatholealthodumbanddumberisufuf]</td>\n",
       "    </tr>\n",
       "    <tr>\n",
       "      <th>1998</th>\n",
       "      <td>[progressupdateaugust]</td>\n",
       "    </tr>\n",
       "  </tbody>\n",
       "</table>\n",
       "<p>1999 rows × 1 columns</p>\n",
       "</div>"
      ],
      "text/plain": [
       "                                                   Text\n",
       "0                                     [kunalbimanalien]\n",
       "1     [idaacarmackraytracingoncyberpunkwithhdrisnext...\n",
       "2                       [joeroganspotifygreatinterview]\n",
       "3                           [gteradogeisunderestimated]\n",
       "4     [teslacncongratulationsteslachinaforamazingexe...\n",
       "...                                                 ...\n",
       "1994  [flcnhvytrueitsoundssosurrealbutthenegativepro...\n",
       "1995  [ppatholemakesuretoreadurtermsampconditionsbef...\n",
       "1996                   [teslagongppatholesamwisegamgee]\n",
       "1997                 [ppatholealthodumbanddumberisufuf]\n",
       "1998                             [progressupdateaugust]\n",
       "\n",
       "[1999 rows x 1 columns]"
      ]
     },
     "execution_count": 14,
     "metadata": {},
     "output_type": "execute_result"
    }
   ],
   "source": [
    "data"
   ]
  },
  {
   "cell_type": "markdown",
   "id": "3b0028ce",
   "metadata": {},
   "source": [
    "# Step 4:- Removing Stop words"
   ]
  },
  {
   "cell_type": "code",
   "execution_count": 15,
   "id": "00bc4b73",
   "metadata": {},
   "outputs": [
    {
     "name": "stderr",
     "output_type": "stream",
     "text": [
      "[nltk_data] Downloading package stopwords to C:\\Users\\Narasimhulu\n",
      "[nltk_data]     E\\AppData\\Roaming\\nltk_data...\n",
      "[nltk_data]   Package stopwords is already up-to-date!\n"
     ]
    }
   ],
   "source": [
    "import nltk  \n",
    "nltk.download('stopwords') \n",
    "from nltk.corpus import stopwords  \n",
    "from nltk.stem.porter import PorterStemmer"
   ]
  },
  {
   "cell_type": "code",
   "execution_count": 16,
   "id": "e4b5253d",
   "metadata": {},
   "outputs": [
    {
     "data": {
      "text/plain": [
       "['i',\n",
       " 'me',\n",
       " 'my',\n",
       " 'myself',\n",
       " 'we',\n",
       " 'our',\n",
       " 'ours',\n",
       " 'ourselves',\n",
       " 'you',\n",
       " \"you're\",\n",
       " \"you've\",\n",
       " \"you'll\",\n",
       " \"you'd\",\n",
       " 'your',\n",
       " 'yours',\n",
       " 'yourself',\n",
       " 'yourselves',\n",
       " 'he',\n",
       " 'him',\n",
       " 'his',\n",
       " 'himself',\n",
       " 'she',\n",
       " \"she's\",\n",
       " 'her',\n",
       " 'hers',\n",
       " 'herself',\n",
       " 'it',\n",
       " \"it's\",\n",
       " 'its',\n",
       " 'itself',\n",
       " 'they',\n",
       " 'them',\n",
       " 'their',\n",
       " 'theirs',\n",
       " 'themselves',\n",
       " 'what',\n",
       " 'which',\n",
       " 'who',\n",
       " 'whom',\n",
       " 'this',\n",
       " 'that',\n",
       " \"that'll\",\n",
       " 'these',\n",
       " 'those',\n",
       " 'am',\n",
       " 'is',\n",
       " 'are',\n",
       " 'was',\n",
       " 'were',\n",
       " 'be',\n",
       " 'been',\n",
       " 'being',\n",
       " 'have',\n",
       " 'has',\n",
       " 'had',\n",
       " 'having',\n",
       " 'do',\n",
       " 'does',\n",
       " 'did',\n",
       " 'doing',\n",
       " 'a',\n",
       " 'an',\n",
       " 'the',\n",
       " 'and',\n",
       " 'but',\n",
       " 'if',\n",
       " 'or',\n",
       " 'because',\n",
       " 'as',\n",
       " 'until',\n",
       " 'while',\n",
       " 'of',\n",
       " 'at',\n",
       " 'by',\n",
       " 'for',\n",
       " 'with',\n",
       " 'about',\n",
       " 'against',\n",
       " 'between',\n",
       " 'into',\n",
       " 'through',\n",
       " 'during',\n",
       " 'before',\n",
       " 'after',\n",
       " 'above',\n",
       " 'below',\n",
       " 'to',\n",
       " 'from',\n",
       " 'up',\n",
       " 'down',\n",
       " 'in',\n",
       " 'out',\n",
       " 'on',\n",
       " 'off',\n",
       " 'over',\n",
       " 'under',\n",
       " 'again',\n",
       " 'further',\n",
       " 'then',\n",
       " 'once',\n",
       " 'here',\n",
       " 'there',\n",
       " 'when',\n",
       " 'where',\n",
       " 'why',\n",
       " 'how',\n",
       " 'all',\n",
       " 'any',\n",
       " 'both',\n",
       " 'each',\n",
       " 'few',\n",
       " 'more',\n",
       " 'most',\n",
       " 'other',\n",
       " 'some',\n",
       " 'such',\n",
       " 'no',\n",
       " 'nor',\n",
       " 'not',\n",
       " 'only',\n",
       " 'own',\n",
       " 'same',\n",
       " 'so',\n",
       " 'than',\n",
       " 'too',\n",
       " 'very',\n",
       " 's',\n",
       " 't',\n",
       " 'can',\n",
       " 'will',\n",
       " 'just',\n",
       " 'don',\n",
       " \"don't\",\n",
       " 'should',\n",
       " \"should've\",\n",
       " 'now',\n",
       " 'd',\n",
       " 'll',\n",
       " 'm',\n",
       " 'o',\n",
       " 're',\n",
       " 've',\n",
       " 'y',\n",
       " 'ain',\n",
       " 'aren',\n",
       " \"aren't\",\n",
       " 'couldn',\n",
       " \"couldn't\",\n",
       " 'didn',\n",
       " \"didn't\",\n",
       " 'doesn',\n",
       " \"doesn't\",\n",
       " 'hadn',\n",
       " \"hadn't\",\n",
       " 'hasn',\n",
       " \"hasn't\",\n",
       " 'haven',\n",
       " \"haven't\",\n",
       " 'isn',\n",
       " \"isn't\",\n",
       " 'ma',\n",
       " 'mightn',\n",
       " \"mightn't\",\n",
       " 'mustn',\n",
       " \"mustn't\",\n",
       " 'needn',\n",
       " \"needn't\",\n",
       " 'shan',\n",
       " \"shan't\",\n",
       " 'shouldn',\n",
       " \"shouldn't\",\n",
       " 'wasn',\n",
       " \"wasn't\",\n",
       " 'weren',\n",
       " \"weren't\",\n",
       " 'won',\n",
       " \"won't\",\n",
       " 'wouldn',\n",
       " \"wouldn't\"]"
      ]
     },
     "execution_count": 16,
     "metadata": {},
     "output_type": "execute_result"
    }
   ],
   "source": [
    "stopwords.words(\"english\")"
   ]
  },
  {
   "cell_type": "code",
   "execution_count": 17,
   "id": "1a677811",
   "metadata": {},
   "outputs": [],
   "source": [
    "data.Text=data.Text.apply(lambda x: [word  for word in x if word not in set(stopwords.words('english'))])"
   ]
  },
  {
   "cell_type": "code",
   "execution_count": 18,
   "id": "3e0ad6aa",
   "metadata": {},
   "outputs": [
    {
     "data": {
      "text/html": [
       "<div>\n",
       "<style scoped>\n",
       "    .dataframe tbody tr th:only-of-type {\n",
       "        vertical-align: middle;\n",
       "    }\n",
       "\n",
       "    .dataframe tbody tr th {\n",
       "        vertical-align: top;\n",
       "    }\n",
       "\n",
       "    .dataframe thead th {\n",
       "        text-align: right;\n",
       "    }\n",
       "</style>\n",
       "<table border=\"1\" class=\"dataframe\">\n",
       "  <thead>\n",
       "    <tr style=\"text-align: right;\">\n",
       "      <th></th>\n",
       "      <th>Text</th>\n",
       "    </tr>\n",
       "  </thead>\n",
       "  <tbody>\n",
       "    <tr>\n",
       "      <th>0</th>\n",
       "      <td>[kunalbimanalien]</td>\n",
       "    </tr>\n",
       "    <tr>\n",
       "      <th>1</th>\n",
       "      <td>[idaacarmackraytracingoncyberpunkwithhdrisnext...</td>\n",
       "    </tr>\n",
       "    <tr>\n",
       "      <th>2</th>\n",
       "      <td>[joeroganspotifygreatinterview]</td>\n",
       "    </tr>\n",
       "    <tr>\n",
       "      <th>3</th>\n",
       "      <td>[gteradogeisunderestimated]</td>\n",
       "    </tr>\n",
       "    <tr>\n",
       "      <th>4</th>\n",
       "      <td>[teslacncongratulationsteslachinaforamazingexe...</td>\n",
       "    </tr>\n",
       "    <tr>\n",
       "      <th>...</th>\n",
       "      <td>...</td>\n",
       "    </tr>\n",
       "    <tr>\n",
       "      <th>1994</th>\n",
       "      <td>[flcnhvytrueitsoundssosurrealbutthenegativepro...</td>\n",
       "    </tr>\n",
       "    <tr>\n",
       "      <th>1995</th>\n",
       "      <td>[ppatholemakesuretoreadurtermsampconditionsbef...</td>\n",
       "    </tr>\n",
       "    <tr>\n",
       "      <th>1996</th>\n",
       "      <td>[teslagongppatholesamwisegamgee]</td>\n",
       "    </tr>\n",
       "    <tr>\n",
       "      <th>1997</th>\n",
       "      <td>[ppatholealthodumbanddumberisufuf]</td>\n",
       "    </tr>\n",
       "    <tr>\n",
       "      <th>1998</th>\n",
       "      <td>[progressupdateaugust]</td>\n",
       "    </tr>\n",
       "  </tbody>\n",
       "</table>\n",
       "<p>1999 rows × 1 columns</p>\n",
       "</div>"
      ],
      "text/plain": [
       "                                                   Text\n",
       "0                                     [kunalbimanalien]\n",
       "1     [idaacarmackraytracingoncyberpunkwithhdrisnext...\n",
       "2                       [joeroganspotifygreatinterview]\n",
       "3                           [gteradogeisunderestimated]\n",
       "4     [teslacncongratulationsteslachinaforamazingexe...\n",
       "...                                                 ...\n",
       "1994  [flcnhvytrueitsoundssosurrealbutthenegativepro...\n",
       "1995  [ppatholemakesuretoreadurtermsampconditionsbef...\n",
       "1996                   [teslagongppatholesamwisegamgee]\n",
       "1997                 [ppatholealthodumbanddumberisufuf]\n",
       "1998                             [progressupdateaugust]\n",
       "\n",
       "[1999 rows x 1 columns]"
      ]
     },
     "execution_count": 18,
     "metadata": {},
     "output_type": "execute_result"
    }
   ],
   "source": [
    "data"
   ]
  },
  {
   "cell_type": "markdown",
   "id": "29463c1b",
   "metadata": {},
   "source": [
    "# Step 5:- Stemming"
   ]
  },
  {
   "cell_type": "code",
   "execution_count": 19,
   "id": "ad941b81",
   "metadata": {},
   "outputs": [],
   "source": [
    "ps = PorterStemmer()\n",
    "data.Text=data.Text.apply(lambda x: [ps.stem(word) for word in x])"
   ]
  },
  {
   "cell_type": "code",
   "execution_count": 20,
   "id": "baf2e328",
   "metadata": {},
   "outputs": [
    {
     "data": {
      "text/html": [
       "<div>\n",
       "<style scoped>\n",
       "    .dataframe tbody tr th:only-of-type {\n",
       "        vertical-align: middle;\n",
       "    }\n",
       "\n",
       "    .dataframe tbody tr th {\n",
       "        vertical-align: top;\n",
       "    }\n",
       "\n",
       "    .dataframe thead th {\n",
       "        text-align: right;\n",
       "    }\n",
       "</style>\n",
       "<table border=\"1\" class=\"dataframe\">\n",
       "  <thead>\n",
       "    <tr style=\"text-align: right;\">\n",
       "      <th></th>\n",
       "      <th>Text</th>\n",
       "    </tr>\n",
       "  </thead>\n",
       "  <tbody>\n",
       "    <tr>\n",
       "      <th>0</th>\n",
       "      <td>[kunalbimanalien]</td>\n",
       "    </tr>\n",
       "    <tr>\n",
       "      <th>1</th>\n",
       "      <td>[idaacarmackraytracingoncyberpunkwithhdrisnext...</td>\n",
       "    </tr>\n",
       "    <tr>\n",
       "      <th>2</th>\n",
       "      <td>[joeroganspotifygreatinterview]</td>\n",
       "    </tr>\n",
       "    <tr>\n",
       "      <th>3</th>\n",
       "      <td>[gteradogeisunderestim]</td>\n",
       "    </tr>\n",
       "    <tr>\n",
       "      <th>4</th>\n",
       "      <td>[teslacncongratulationsteslachinaforamazingexe...</td>\n",
       "    </tr>\n",
       "    <tr>\n",
       "      <th>...</th>\n",
       "      <td>...</td>\n",
       "    </tr>\n",
       "    <tr>\n",
       "      <th>1994</th>\n",
       "      <td>[flcnhvytrueitsoundssosurrealbutthenegativepro...</td>\n",
       "    </tr>\n",
       "    <tr>\n",
       "      <th>1995</th>\n",
       "      <td>[ppatholemakesuretoreadurtermsampconditionsbef...</td>\n",
       "    </tr>\n",
       "    <tr>\n",
       "      <th>1996</th>\n",
       "      <td>[teslagongppatholesamwisegamge]</td>\n",
       "    </tr>\n",
       "    <tr>\n",
       "      <th>1997</th>\n",
       "      <td>[ppatholealthodumbanddumberisufuf]</td>\n",
       "    </tr>\n",
       "    <tr>\n",
       "      <th>1998</th>\n",
       "      <td>[progressupdateaugust]</td>\n",
       "    </tr>\n",
       "  </tbody>\n",
       "</table>\n",
       "<p>1999 rows × 1 columns</p>\n",
       "</div>"
      ],
      "text/plain": [
       "                                                   Text\n",
       "0                                     [kunalbimanalien]\n",
       "1     [idaacarmackraytracingoncyberpunkwithhdrisnext...\n",
       "2                       [joeroganspotifygreatinterview]\n",
       "3                               [gteradogeisunderestim]\n",
       "4     [teslacncongratulationsteslachinaforamazingexe...\n",
       "...                                                 ...\n",
       "1994  [flcnhvytrueitsoundssosurrealbutthenegativepro...\n",
       "1995  [ppatholemakesuretoreadurtermsampconditionsbef...\n",
       "1996                    [teslagongppatholesamwisegamge]\n",
       "1997                 [ppatholealthodumbanddumberisufuf]\n",
       "1998                             [progressupdateaugust]\n",
       "\n",
       "[1999 rows x 1 columns]"
      ]
     },
     "execution_count": 20,
     "metadata": {},
     "output_type": "execute_result"
    }
   ],
   "source": [
    "data"
   ]
  },
  {
   "cell_type": "markdown",
   "id": "6e32a6c7",
   "metadata": {},
   "source": [
    "# Step 6:-Rejoining"
   ]
  },
  {
   "cell_type": "code",
   "execution_count": 21,
   "id": "097f95ed",
   "metadata": {},
   "outputs": [],
   "source": [
    "data.Text=data.Text.apply(lambda x: \" \".join(x))"
   ]
  },
  {
   "cell_type": "code",
   "execution_count": 22,
   "id": "6b120664",
   "metadata": {},
   "outputs": [
    {
     "data": {
      "text/html": [
       "<div>\n",
       "<style scoped>\n",
       "    .dataframe tbody tr th:only-of-type {\n",
       "        vertical-align: middle;\n",
       "    }\n",
       "\n",
       "    .dataframe tbody tr th {\n",
       "        vertical-align: top;\n",
       "    }\n",
       "\n",
       "    .dataframe thead th {\n",
       "        text-align: right;\n",
       "    }\n",
       "</style>\n",
       "<table border=\"1\" class=\"dataframe\">\n",
       "  <thead>\n",
       "    <tr style=\"text-align: right;\">\n",
       "      <th></th>\n",
       "      <th>Text</th>\n",
       "    </tr>\n",
       "  </thead>\n",
       "  <tbody>\n",
       "    <tr>\n",
       "      <th>0</th>\n",
       "      <td>kunalbimanalien</td>\n",
       "    </tr>\n",
       "    <tr>\n",
       "      <th>1</th>\n",
       "      <td>idaacarmackraytracingoncyberpunkwithhdrisnextl...</td>\n",
       "    </tr>\n",
       "    <tr>\n",
       "      <th>2</th>\n",
       "      <td>joeroganspotifygreatinterview</td>\n",
       "    </tr>\n",
       "    <tr>\n",
       "      <th>3</th>\n",
       "      <td>gteradogeisunderestim</td>\n",
       "    </tr>\n",
       "    <tr>\n",
       "      <th>4</th>\n",
       "      <td>teslacncongratulationsteslachinaforamazingexec...</td>\n",
       "    </tr>\n",
       "    <tr>\n",
       "      <th>...</th>\n",
       "      <td>...</td>\n",
       "    </tr>\n",
       "    <tr>\n",
       "      <th>1994</th>\n",
       "      <td>flcnhvytrueitsoundssosurrealbutthenegativeprop...</td>\n",
       "    </tr>\n",
       "    <tr>\n",
       "      <th>1995</th>\n",
       "      <td>ppatholemakesuretoreadurtermsampconditionsbefo...</td>\n",
       "    </tr>\n",
       "    <tr>\n",
       "      <th>1996</th>\n",
       "      <td>teslagongppatholesamwisegamge</td>\n",
       "    </tr>\n",
       "    <tr>\n",
       "      <th>1997</th>\n",
       "      <td>ppatholealthodumbanddumberisufuf</td>\n",
       "    </tr>\n",
       "    <tr>\n",
       "      <th>1998</th>\n",
       "      <td>progressupdateaugust</td>\n",
       "    </tr>\n",
       "  </tbody>\n",
       "</table>\n",
       "<p>1999 rows × 1 columns</p>\n",
       "</div>"
      ],
      "text/plain": [
       "                                                   Text\n",
       "0                                       kunalbimanalien\n",
       "1     idaacarmackraytracingoncyberpunkwithhdrisnextl...\n",
       "2                         joeroganspotifygreatinterview\n",
       "3                                 gteradogeisunderestim\n",
       "4     teslacncongratulationsteslachinaforamazingexec...\n",
       "...                                                 ...\n",
       "1994  flcnhvytrueitsoundssosurrealbutthenegativeprop...\n",
       "1995  ppatholemakesuretoreadurtermsampconditionsbefo...\n",
       "1996                      teslagongppatholesamwisegamge\n",
       "1997                   ppatholealthodumbanddumberisufuf\n",
       "1998                               progressupdateaugust\n",
       "\n",
       "[1999 rows x 1 columns]"
      ]
     },
     "execution_count": 22,
     "metadata": {},
     "output_type": "execute_result"
    }
   ],
   "source": [
    "data"
   ]
  },
  {
   "cell_type": "code",
   "execution_count": 23,
   "id": "218adb63",
   "metadata": {},
   "outputs": [
    {
     "name": "stdout",
     "output_type": "stream",
     "text": [
      "Requirement already satisfied: textblob in c:\\users\\narasimhulu e\\anaconda3\\lib\\site-packages (0.17.1)\n",
      "Requirement already satisfied: nltk>=3.1 in c:\\users\\narasimhulu e\\anaconda3\\lib\\site-packages (from textblob) (3.7)\n",
      "Requirement already satisfied: click in c:\\users\\narasimhulu e\\anaconda3\\lib\\site-packages (from nltk>=3.1->textblob) (8.0.4)\n",
      "Requirement already satisfied: joblib in c:\\users\\narasimhulu e\\anaconda3\\lib\\site-packages (from nltk>=3.1->textblob) (1.1.0)\n",
      "Requirement already satisfied: tqdm in c:\\users\\narasimhulu e\\anaconda3\\lib\\site-packages (from nltk>=3.1->textblob) (4.64.1)\n",
      "Requirement already satisfied: regex>=2021.8.3 in c:\\users\\narasimhulu e\\anaconda3\\lib\\site-packages (from nltk>=3.1->textblob) (2022.7.9)\n",
      "Requirement already satisfied: colorama in c:\\users\\narasimhulu e\\anaconda3\\lib\\site-packages (from click->nltk>=3.1->textblob) (0.4.5)\n",
      "Note: you may need to restart the kernel to use updated packages.\n"
     ]
    }
   ],
   "source": [
    "pip install -U textblob"
   ]
  },
  {
   "cell_type": "markdown",
   "id": "93b24c5e",
   "metadata": {},
   "source": [
    "# Sentiment Analysis"
   ]
  },
  {
   "cell_type": "code",
   "execution_count": 24,
   "id": "0778db87",
   "metadata": {},
   "outputs": [
    {
     "data": {
      "text/html": [
       "<div>\n",
       "<style scoped>\n",
       "    .dataframe tbody tr th:only-of-type {\n",
       "        vertical-align: middle;\n",
       "    }\n",
       "\n",
       "    .dataframe tbody tr th {\n",
       "        vertical-align: top;\n",
       "    }\n",
       "\n",
       "    .dataframe thead th {\n",
       "        text-align: right;\n",
       "    }\n",
       "</style>\n",
       "<table border=\"1\" class=\"dataframe\">\n",
       "  <thead>\n",
       "    <tr style=\"text-align: right;\">\n",
       "      <th></th>\n",
       "      <th>Text</th>\n",
       "      <th>sentiment</th>\n",
       "    </tr>\n",
       "  </thead>\n",
       "  <tbody>\n",
       "    <tr>\n",
       "      <th>0</th>\n",
       "      <td>kunalbimanalien</td>\n",
       "      <td>0.0</td>\n",
       "    </tr>\n",
       "    <tr>\n",
       "      <th>1</th>\n",
       "      <td>idaacarmackraytracingoncyberpunkwithhdrisnextl...</td>\n",
       "      <td>0.0</td>\n",
       "    </tr>\n",
       "    <tr>\n",
       "      <th>2</th>\n",
       "      <td>joeroganspotifygreatinterview</td>\n",
       "      <td>0.0</td>\n",
       "    </tr>\n",
       "    <tr>\n",
       "      <th>3</th>\n",
       "      <td>gteradogeisunderestim</td>\n",
       "      <td>0.0</td>\n",
       "    </tr>\n",
       "    <tr>\n",
       "      <th>4</th>\n",
       "      <td>teslacncongratulationsteslachinaforamazingexec...</td>\n",
       "      <td>0.0</td>\n",
       "    </tr>\n",
       "  </tbody>\n",
       "</table>\n",
       "</div>"
      ],
      "text/plain": [
       "                                                Text  sentiment\n",
       "0                                    kunalbimanalien        0.0\n",
       "1  idaacarmackraytracingoncyberpunkwithhdrisnextl...        0.0\n",
       "2                      joeroganspotifygreatinterview        0.0\n",
       "3                              gteradogeisunderestim        0.0\n",
       "4  teslacncongratulationsteslachinaforamazingexec...        0.0"
      ]
     },
     "execution_count": 24,
     "metadata": {},
     "output_type": "execute_result"
    }
   ],
   "source": [
    "from textblob import TextBlob\n",
    "data['sentiment'] = data['Text'].apply(lambda x: TextBlob(x).sentiment[0] )\n",
    "data[['Text','sentiment']].head()"
   ]
  },
  {
   "cell_type": "markdown",
   "id": "dfaf2358",
   "metadata": {},
   "source": [
    "# Problem statement:- 2"
   ]
  },
  {
   "cell_type": "markdown",
   "id": "4c42981d",
   "metadata": {},
   "source": [
    "z# 1 Extract reviews of any product from ecommerce website like amazon \n",
    "2Perform emotion mining"
   ]
  },
  {
   "cell_type": "code",
   "execution_count": 25,
   "id": "74f10b09",
   "metadata": {},
   "outputs": [],
   "source": [
    "import requests\n",
    "from bs4 import BeautifulSoup\n",
    "import seaborn as sns\n",
    "import matplotlib.pyplot as plt"
   ]
  },
  {
   "cell_type": "code",
   "execution_count": 26,
   "id": "bd98a8ca",
   "metadata": {},
   "outputs": [],
   "source": [
    "link='https://www.amazon.in/Kindle-10th-Gen/product-reviews/B07FQ4Q7MB/ref=cm_cr_dp_d_show_all_btm?ie=UTF8&reviewerType=all_reviews'"
   ]
  },
  {
   "cell_type": "code",
   "execution_count": 27,
   "id": "37ae8003",
   "metadata": {},
   "outputs": [
    {
     "name": "stdout",
     "output_type": "stream",
     "text": [
      "https://www.amazon.in/Kindle-10th-Gen/product-reviews/B07FQ4Q7MB/ref=cm_cr_dp_d_show_all_btm?ie=UTF8&reviewerType=all_reviews&pageNumber=0\n",
      "https://www.amazon.in/Kindle-10th-Gen/product-reviews/B07FQ4Q7MB/ref=cm_cr_dp_d_show_all_btm?ie=UTF8&reviewerType=all_reviews&pageNumber=1\n",
      "https://www.amazon.in/Kindle-10th-Gen/product-reviews/B07FQ4Q7MB/ref=cm_cr_dp_d_show_all_btm?ie=UTF8&reviewerType=all_reviews&pageNumber=2\n",
      "https://www.amazon.in/Kindle-10th-Gen/product-reviews/B07FQ4Q7MB/ref=cm_cr_dp_d_show_all_btm?ie=UTF8&reviewerType=all_reviews&pageNumber=3\n",
      "https://www.amazon.in/Kindle-10th-Gen/product-reviews/B07FQ4Q7MB/ref=cm_cr_dp_d_show_all_btm?ie=UTF8&reviewerType=all_reviews&pageNumber=4\n",
      "https://www.amazon.in/Kindle-10th-Gen/product-reviews/B07FQ4Q7MB/ref=cm_cr_dp_d_show_all_btm?ie=UTF8&reviewerType=all_reviews&pageNumber=5\n"
     ]
    }
   ],
   "source": [
    "## Getting reviews of first five pages\n",
    "review_list=[]\n",
    "\n",
    "for k in range(0,6):\n",
    "    review_link=link+'&pageNumber='+str(k)\n",
    "    print(review_link)\n",
    "    page=requests.get(review_link)\n",
    "    soup=BeautifulSoup(page.content,'html.parser')\n",
    "    reviews=soup.find_all('span',class_='review-text-content')\n",
    "    \n",
    "    for i in range(0,len(reviews)):\n",
    "        \n",
    "        review_list.append(reviews[i].get_text().strip())"
   ]
  },
  {
   "cell_type": "code",
   "execution_count": 28,
   "id": "9d170be3",
   "metadata": {},
   "outputs": [
    {
     "data": {
      "text/plain": [
       "['INITIAL IMPRESSIONS- Light weight and beautiful display. Easy to hold, easy to read. Thank you Vani !WHY SHOULD ONE BUY KINDLE?I was using Kindle app on smartphone and PC for quite few years, and was skeptical of investing 5859 on this mere kindle reader (books need to be purchased separately). However, this lockdown forced me to spend all my time on phone and PC, leaving strained eyes. Also, distractions(whatspp, youtube etc) is so high while reading on internet connected devices.This reader solves the problem in one go. It is light to hold for hours, and distraction free to improve your productivity to 2x-3x. Best of all, no strains on eyes means, you can carry your work for more amount of time, effectively making you productive by 4x-5x.I am a law student and all my books, articles and Court judgments are in PDF( Legal documents use large font size and equal spacing, and lots of margin consuming only 10-12 lines in a page). It is better to convert them in mobi format online, and then transfer to it. Few page documents can be read in it in Landscape mode. However, it is not advisable to buy it only for PDF reading, if texts are small.In the box-Kindle, data cable (1m length, 2A decent quality)BUILD QUALITY – Plastic body with matte finish. Won’t fall from your hand. Display glass also seems good. Doesn’t bleed or squeak on applying thumb pressure. Also, no smudges are left either on screen.You may use cover, but it will increase the weight. I have white colored device, and so far it isn’t getting dirty as feared.DISPLAY- E-ink makes it like a paper book. There is no strain on eyes, unlike mobile or PC, and you can read on it continuously for hours. I have set the brightness level to 9(out of 20), which works for me in day as well as night.TOUCH – Touch sensitivity is fine for page turning usage only.ECOSYSTEM – I have been using Kindle on smartphone and PC for years. It is advisable to all to first try kindle app, then invest in it. It is fairly smooth, but initial set and learning may consume an hour. You get features like inbuilt dictionary, highlight, share, sync across your mobile, pc and kindle, multiple fonts, variable font sizes which suffices the need for all. Purchasing a kindle book can be done from kindle app or from your linked amazon account.Additionally, you can send PDF using USB cable, or mail it to kindle mail id using your approved/registered email id, or using SEND TO KINDLE software from PC.PDF READERS- Kindle books are a treat to read on this. You can convert your PDFs to mobi format but it isn’t that perfect. PDF need to be plain text for better conversion.PDFs have to be read in Landscape orientation. It divides the page in half, making texts more visible than Portrait format.Graphics and images are not meant for it. Bigger the text, better it gets. I can’t suggest this reader to UPSC, medical and engineering students, as PDF used by them wouldn’t turn as beautiful as per their expectation. In my case, it works as legal documents use large font size and equal spacing, and lots of margin consuming only 10-12 lines in a page.The Kindle Personal Document Service can convert and deliver the following types of documents:Microsoft Word (.doc, .docx)Rich Text Format (.rtf)HTML (.htm, .html)Text (.txt) documentsArchived documents (zip , x-zip) and compressed archived documentsMobi bookImages that are of type JPEGs (.jpg), GIFs (.gif), Bitmaps (.bmp), and PNG images (.png).Adobe PDF (.pdf) documents are delivered without conversion to Kindle DX, Second Generation and Latest Generation Kindles.Adobe PDF (.pdf) can be converted to Kindle format and delivered on an experimental basis.If the document that failed belonged to one of the above document types, please ensure the document is not password protected or encrypted. Note that the Latest Generation Kindles support password protected PDFs.Helpful tips for personal document attachments:The file size of each attached personal document should be less than 50MB (before compression in a ZIP file)The email submitted should not contain more than 25 attached personal documentsBATTERY – On Wifi, it consumes much battery. 1% in 3 minutes, while on aeroplane mode, with no lights, 1-2% in an hour, and with lights on medium settings, 3-4% in an hour.Wifi has to be turned on only to download books and sync.It takes approx. 2 hrs to charge, and can last for 20 hrs on flight mode.It has a lot of preinstalled screen savers, and they don’t consume any battery.STORAGE-  Out of 8 GB, I got 6.23 GB for my usage.KINDLE UNLIMITED – It has to be additionally purchased. It allows you to borrow at max 10 books from store for free at once. Once your subscription ends, books are gone. Availability of new titles in far less, and you will have to purchase them separately. However, there are thousands of them available for a reader to engage.Check beforehand in Kindle app before paying. This device came with a bundled offer of 3 months access for a mere Rs. 2, but can only be availed by select bank holders like Kotak, ICICI and HDFC etc. I would suggest to purchase your own books, unless you’re getting Unlimited subscription at quite less during sale period.CONCLUSION – Before investing in this reader, first get experience of Kindle app on your mobile. This reader will only provide distraction free reading and zero strain on eyes. For serious readers, who spend more than half an hour per day on using Kindle app, they will find it really useful.',\n",
       " \"I would first like to tell that I am a student of class 10th, I bought this 4 weeks ago.Why I bought this?I just wanted to build a new habit of reading, and I just made a target of reading atleast 1 book a week. I didn't want to use it to for my textbooks but wanted to see if it can handle it of not.Lets go on a detailed review.LOOK AND FEEL-The body is of plastic and has a kind of matt finish but it definitely not feel a premium gadget. It is easy to hold but some scratches at the back are visible. But thats not a problem as it still looks good. There are no scratches on the screen and I don't think there would be ever either.USER INTERFACE AND TOUCH-The overall interface is actually very bad if compared to a phone or tablet. But since it is not a replacement for tablet, but for books it does the work. It is a complete distraction free environment. The touch is actually bad but it pretty much does the job since you only have to turn pages and as compared to a book, I haven't seen any book with touch screen yet so its just an additional feature☺️READING TIME-It just feels like it has a paper embedded in it, I remember one of my relatives calling it a photoframe. There is no eye strain and it also helps you read in pitch dark which is not possible with real paper. I had a hard copy of a book but still chose to read it on it because I dont have to struggle turning pages and i am very bad with it. Nor I like the so called smell of the paper so it is the obvious choice for me and I would pick it up any day over a book. The only thinkn I like about book over this is that they look very good filling a shelf with there beautiful coversTEXTBOOKS-Essentially mobi format can support any book which has 95% text and minimum photos but also if a book has multiple columns then it kind of fails there so you would have to use it as a pdf. It can display any pdf. I have tried hand written digital notes, scanned pdf of hand written notes, Books with lots of diagrams, books with multiple columns.The only time it refused to display something was a page from my bio book which had a lot of diagrams. While it displayed other pages which had diagrams only one page was left blank.It can though display all these i wouldn't use it to replace my all books since a textbook has a lot of coulurs and it looks a bit of visually appealing but on it it doesn't look that appealing. I use it to display some maths books since the dont have diagrams and when i have to just refer to a book which I dont have and that can be very well done on a tablet.COMICS?-While it can display them they don't look that good and I wint recommend it for that.CONCLUSION-It is very good choice to read fiction or non fiction. For fiction readers it has a dictionary feature which gives you the meaning of any word and it is saved so you can see how many words you still remember thus enhancing your vocabulary. For non fiction it gives you making notes whichbis very good as you dont have to take paper and pen for marking your key learnings. It cant replace textbooks but I am sure in future it may be able to do that also. The only feature I would want is a physical page turn button.SO I WAS ABLE TO READ 8.5 BOOKS IN 4 WEEKS WHICH IS 4.5 BOOKS EXTRA AND CONSIDERING THAT I HAD MY EXAMS DURING THIS PERIOD SO IT DOES HELP YOU READ. I WAS JUST READING NONFICTION FOR FIRST BUT I ALSO READ A FEW FICTION. IT REALLY HELPS TO EXPERIMENT SINCE YOU DONT FEEL PHISICALLY ATTACHED TO THE BOOK.\",\n",
       " \"This is my best investment till date. Kindle is not a device, it's a habit and as a product manager, I'm myself amazed by the simplicity and how effortlessly it falls as your best goto device. It is built for reading at its best. Comparable to a real books with all features catered specially to book lovers.\",\n",
       " \"I was initially skeptical about resolution and size of the device. But then I was not going to spend a bomb on higher resolutions and bigger screen sizes as the source of reading is limited largely to Kindle store. And I wanted to first try if Kindle is for me not. If I am convinced, I may upgrade later.I compared the look of the screen with some of my books and it looks good. Paper quality and print quality of books vary widely ranging from glossy papers to recycled papers. I would say this device falls at range of acceptable level compared to books. So, the way it looks is fine with me.Coming to size, I did not find size of 6 inches problematic. This size is comfortable enough for reading. And the size is better than bigger sizes, for carrying it around, putting in pocket, and for single hand reading. So, the size of the device is more than good enough for me.The display flickers when you turn pages and it is a problem. You can turn it off in settings, but then the transition to next page is not so smooth even after that. That could bother you. Before turning off this option, it even triggered migraine headache for me. This is just passable. If it causes headache after a few hours of reading, it is definite put off. I hope it doesn't cause problems. I can always look away when turning pages if it causes problems, but still it is a put off.The experimental browser is still experimental after all these years. You cannot open documents directly from your Google drive for example. Many pages don't load. But the maker never claimed that their browser works perfectly. So, I will let this pass.Given the source of reading is limited largely to Kindle store, I will need to do reading on my laptop also. So, I went for cheaper of the Kindle device models. It works. It has pros and cons. I can use the pros and I can live with cons. So, at this price range, this is a good buy, at least for me personally. I will happily upgrade if and when they get rid of the flicker, make other sources of reading more accessible and complete their experiments with their 'experimental browser'. For now, this model works and it works well.\",\n",
       " \"Using it for last 3-4 months here is my opinion about it.#Pros1.screen- there is day night difference in usual LCDs,IPS and this e-ink technology n it looks n feels absolutely like paper in daytime outdoors or with external light indoors2. UI - user interface is good consider reading guide included with it, it is easy to navigate and u can also make seperate collections for different genres of book.3. Weight - its very lightweight easily to handle u can use it without any stand or something. ( I recommend buying carry pouch instead of flip cover, flip cover indeed protectes it but also make it harder to use.)4. Dictionary/highlight/note - u have various dictionaries u just select the word meaning pops up,if not u can use Wikipedia. U can highlight text and put footnotes on them, vocabulary builder,word wise n x-ray features is very useful.5. Browse/bluetooth - it has experiment browser works fine usually though highly depends upon what website u visiting, u can connect bluetooth headphone use read out loud mode.6. Usability- can read mobi,azw,txt,docs n yes pdf too.-#cons - Things I don't like about kindle.1.touchsreen - touch is okish but not really very smooth experience, u will usually end up opening a book when scrolling through library, not a deal-breaker tho2.pdf support-. Yes u can read PDFs but it's not really made for that because zooming in n out is not really smooth,n whole screen will refresh n flicker once everytime u slide page the page around.3. Screen orientation issue - screen in landscape mode only rotates to right (for holding device with left hand n using it with right hand i.e for right handed people only) u can't rotate to left in landscape mode to hold it with right hand ( if u read for long hours u will notice it as u need to change hands after a while n broad bazel is only on one side so holding with right hand usually end up fliping page as u will be holding it from slim bazel side)4.no audiobook support- I don't understood why they don't provide audiobook support on this it's fairly capable of it5. Pricing - I think it's bit overpriced to be sold at 8k.Final verdict- if u are a student thinking of buying it for ur pdf files or reading textbook (which are mostly PDFs). a tablet or laptop will be a better option for u(if u don't have already).2. Strongly recommend for books lovers if u r thinking of buying eink reader u should go for it actually is next step in book reading u will love wordwise,vocab builder, dictionary support etcBonus - u can convert PDFs to mobi or azw format using calibre (not flawless but works )\",\n",
       " \"It's very good\",\n",
       " \"WORTH EVERY PENNY!For anyone who is avid reader, this is what you need. Even for someone who reads every now and then this is a good purchase.Talking about the device itself, the screen does look like an actual book, but the touch response could be better, at least that's what I felt. Everything else has already been mentioned by others.\",\n",
       " 'Compact, easy to use. Bought it a year or so back. This is my second Kindle. First one lasted more than six years. At 5.2k (when I bought it) it was a win-win. I think it has been discontinued now. This was the best one for students — a useful product at a manageable price.',\n",
       " \"It's good product.but u can not read pdf file easily,u have to convert and all.but for e-book it's fabulous.definately go if u are reader.\",\n",
       " \"Has a comfortable enough bezel - any smaller and holding one would be too hard due to how thin these things are.Works, no issues with loading or obtaining books - personal documents or other ebooks - however use calibre for ease of use in handling the different formats. Book prices in amazon shop are.. reasonable? most of the time.Resolution/pixel count is just enough for text - not great for pictures, backlight though white is comfortable for extended usage - battery is decent enough, you can get 20 to 24 hours of screen time from full charge assuming you flip pages once every minute (less flips is better I would assume) with wifi off - backlight doesn't seem to be very significant in power drawMajor useabillity issues :-1. No screen rotation - beyond a top to bottom for portrait and bottom to top (text direction - left to right) for landscape - no gyro sensor - can accept that but not even manual option to do so? Not acceptable from my perspective as someone who has two hands and intends to use both of them to hold the damn thing when reading2. The usual text alignment problem is here, the book should specifically give you the option between justified and left align to work else it won't work.3. Screen is hard plastic - though it's hard would much prefer glass.Would definitely recommend a flip cover - one with magnet on edge for the nice turn on when cover open functionality - uses hall effect instead of a proximity sensor. The reader is thin and large enough that it does feel weird to hold - not great center of gravity there. Also the plastic screen is not exactly scratch resistant -or rest of the plastic body.Got mine for ₹8000 soon after it went for sale at ₹6200 oh well - don't regret it that much.Definitely worth it if you had go through the painful process of reading books of any kind on a bright display like phones or computers for long hours and don't wish to repeat that.\"]"
      ]
     },
     "execution_count": 28,
     "metadata": {},
     "output_type": "execute_result"
    }
   ],
   "source": [
    "review_list"
   ]
  },
  {
   "cell_type": "code",
   "execution_count": 29,
   "id": "6d9636de",
   "metadata": {},
   "outputs": [
    {
     "data": {
      "text/plain": [
       "10"
      ]
     },
     "execution_count": 29,
     "metadata": {},
     "output_type": "execute_result"
    }
   ],
   "source": [
    "len(review_list)"
   ]
  },
  {
   "cell_type": "code",
   "execution_count": 30,
   "id": "5d53b507",
   "metadata": {},
   "outputs": [
    {
     "data": {
      "text/html": [
       "<div>\n",
       "<style scoped>\n",
       "    .dataframe tbody tr th:only-of-type {\n",
       "        vertical-align: middle;\n",
       "    }\n",
       "\n",
       "    .dataframe tbody tr th {\n",
       "        vertical-align: top;\n",
       "    }\n",
       "\n",
       "    .dataframe thead th {\n",
       "        text-align: right;\n",
       "    }\n",
       "</style>\n",
       "<table border=\"1\" class=\"dataframe\">\n",
       "  <thead>\n",
       "    <tr style=\"text-align: right;\">\n",
       "      <th></th>\n",
       "      <th>Reviews</th>\n",
       "    </tr>\n",
       "  </thead>\n",
       "  <tbody>\n",
       "    <tr>\n",
       "      <th>0</th>\n",
       "      <td>INITIAL IMPRESSIONS- Light weight and beautiful display. Easy to hold, easy to read. Thank you Vani !WHY SHOULD ONE BUY KINDLE?I was using Kindle app on smartphone and PC for quite few years, and was skeptical of investing 5859 on this mere kindle reader (books need to be purchased separately). However, this lockdown forced me to spend all my time on phone and PC, leaving strained eyes. Also, distractions(whatspp, youtube etc) is so high while reading on internet connected devices.This reader solves the problem in one go. It is light to hold for hours, and distraction free to improve your productivity to 2x-3x. Best of all, no strains on eyes means, you can carry your work for more amount of time, effectively making you productive by 4x-5x.I am a law student and all my books, articles ...</td>\n",
       "    </tr>\n",
       "    <tr>\n",
       "      <th>1</th>\n",
       "      <td>I would first like to tell that I am a student of class 10th, I bought this 4 weeks ago.Why I bought this?I just wanted to build a new habit of reading, and I just made a target of reading atleast 1 book a week. I didn't want to use it to for my textbooks but wanted to see if it can handle it of not.Lets go on a detailed review.LOOK AND FEEL-The body is of plastic and has a kind of matt finish but it definitely not feel a premium gadget. It is easy to hold but some scratches at the back are visible. But thats not a problem as it still looks good. There are no scratches on the screen and I don't think there would be ever either.USER INTERFACE AND TOUCH-The overall interface is actually very bad if compared to a phone or tablet. But since it is not a replacement for tablet, but for books...</td>\n",
       "    </tr>\n",
       "    <tr>\n",
       "      <th>2</th>\n",
       "      <td>This is my best investment till date. Kindle is not a device, it's a habit and as a product manager, I'm myself amazed by the simplicity and how effortlessly it falls as your best goto device. It is built for reading at its best. Comparable to a real books with all features catered specially to book lovers.</td>\n",
       "    </tr>\n",
       "    <tr>\n",
       "      <th>3</th>\n",
       "      <td>I was initially skeptical about resolution and size of the device. But then I was not going to spend a bomb on higher resolutions and bigger screen sizes as the source of reading is limited largely to Kindle store. And I wanted to first try if Kindle is for me not. If I am convinced, I may upgrade later.I compared the look of the screen with some of my books and it looks good. Paper quality and print quality of books vary widely ranging from glossy papers to recycled papers. I would say this device falls at range of acceptable level compared to books. So, the way it looks is fine with me.Coming to size, I did not find size of 6 inches problematic. This size is comfortable enough for reading. And the size is better than bigger sizes, for carrying it around, putting in pocket, and for si...</td>\n",
       "    </tr>\n",
       "    <tr>\n",
       "      <th>4</th>\n",
       "      <td>Using it for last 3-4 months here is my opinion about it.#Pros1.screen- there is day night difference in usual LCDs,IPS and this e-ink technology n it looks n feels absolutely like paper in daytime outdoors or with external light indoors2. UI - user interface is good consider reading guide included with it, it is easy to navigate and u can also make seperate collections for different genres of book.3. Weight - its very lightweight easily to handle u can use it without any stand or something. ( I recommend buying carry pouch instead of flip cover, flip cover indeed protectes it but also make it harder to use.)4. Dictionary/highlight/note - u have various dictionaries u just select the word meaning pops up,if not u can use Wikipedia. U can highlight text and put footnotes on them, vocabu...</td>\n",
       "    </tr>\n",
       "    <tr>\n",
       "      <th>5</th>\n",
       "      <td>It's very good</td>\n",
       "    </tr>\n",
       "    <tr>\n",
       "      <th>6</th>\n",
       "      <td>WORTH EVERY PENNY!For anyone who is avid reader, this is what you need. Even for someone who reads every now and then this is a good purchase.Talking about the device itself, the screen does look like an actual book, but the touch response could be better, at least that's what I felt. Everything else has already been mentioned by others.</td>\n",
       "    </tr>\n",
       "    <tr>\n",
       "      <th>7</th>\n",
       "      <td>Compact, easy to use. Bought it a year or so back. This is my second Kindle. First one lasted more than six years. At 5.2k (when I bought it) it was a win-win. I think it has been discontinued now. This was the best one for students — a useful product at a manageable price.</td>\n",
       "    </tr>\n",
       "    <tr>\n",
       "      <th>8</th>\n",
       "      <td>It's good product.but u can not read pdf file easily,u have to convert and all.but for e-book it's fabulous.definately go if u are reader.</td>\n",
       "    </tr>\n",
       "    <tr>\n",
       "      <th>9</th>\n",
       "      <td>Has a comfortable enough bezel - any smaller and holding one would be too hard due to how thin these things are.Works, no issues with loading or obtaining books - personal documents or other ebooks - however use calibre for ease of use in handling the different formats. Book prices in amazon shop are.. reasonable? most of the time.Resolution/pixel count is just enough for text - not great for pictures, backlight though white is comfortable for extended usage - battery is decent enough, you can get 20 to 24 hours of screen time from full charge assuming you flip pages once every minute (less flips is better I would assume) with wifi off - backlight doesn't seem to be very significant in power drawMajor useabillity issues :-1. No screen rotation - beyond a top to bottom for portrait and ...</td>\n",
       "    </tr>\n",
       "  </tbody>\n",
       "</table>\n",
       "</div>"
      ],
      "text/plain": [
       "                                                                                                                                                                                                                                                                                                                                                                                                                                                                                                                                                                                                                                                                                                                                                                                                                           Reviews\n",
       "0  INITIAL IMPRESSIONS- Light weight and beautiful display. Easy to hold, easy to read. Thank you Vani !WHY SHOULD ONE BUY KINDLE?I was using Kindle app on smartphone and PC for quite few years, and was skeptical of investing 5859 on this mere kindle reader (books need to be purchased separately). However, this lockdown forced me to spend all my time on phone and PC, leaving strained eyes. Also, distractions(whatspp, youtube etc) is so high while reading on internet connected devices.This reader solves the problem in one go. It is light to hold for hours, and distraction free to improve your productivity to 2x-3x. Best of all, no strains on eyes means, you can carry your work for more amount of time, effectively making you productive by 4x-5x.I am a law student and all my books, articles ...\n",
       "1  I would first like to tell that I am a student of class 10th, I bought this 4 weeks ago.Why I bought this?I just wanted to build a new habit of reading, and I just made a target of reading atleast 1 book a week. I didn't want to use it to for my textbooks but wanted to see if it can handle it of not.Lets go on a detailed review.LOOK AND FEEL-The body is of plastic and has a kind of matt finish but it definitely not feel a premium gadget. It is easy to hold but some scratches at the back are visible. But thats not a problem as it still looks good. There are no scratches on the screen and I don't think there would be ever either.USER INTERFACE AND TOUCH-The overall interface is actually very bad if compared to a phone or tablet. But since it is not a replacement for tablet, but for books...\n",
       "2                                                                                                                                                                                                                                                                                                                                                                                                                                                                                                             This is my best investment till date. Kindle is not a device, it's a habit and as a product manager, I'm myself amazed by the simplicity and how effortlessly it falls as your best goto device. It is built for reading at its best. Comparable to a real books with all features catered specially to book lovers.\n",
       "3  I was initially skeptical about resolution and size of the device. But then I was not going to spend a bomb on higher resolutions and bigger screen sizes as the source of reading is limited largely to Kindle store. And I wanted to first try if Kindle is for me not. If I am convinced, I may upgrade later.I compared the look of the screen with some of my books and it looks good. Paper quality and print quality of books vary widely ranging from glossy papers to recycled papers. I would say this device falls at range of acceptable level compared to books. So, the way it looks is fine with me.Coming to size, I did not find size of 6 inches problematic. This size is comfortable enough for reading. And the size is better than bigger sizes, for carrying it around, putting in pocket, and for si...\n",
       "4  Using it for last 3-4 months here is my opinion about it.#Pros1.screen- there is day night difference in usual LCDs,IPS and this e-ink technology n it looks n feels absolutely like paper in daytime outdoors or with external light indoors2. UI - user interface is good consider reading guide included with it, it is easy to navigate and u can also make seperate collections for different genres of book.3. Weight - its very lightweight easily to handle u can use it without any stand or something. ( I recommend buying carry pouch instead of flip cover, flip cover indeed protectes it but also make it harder to use.)4. Dictionary/highlight/note - u have various dictionaries u just select the word meaning pops up,if not u can use Wikipedia. U can highlight text and put footnotes on them, vocabu...\n",
       "5                                                                                                                                                                                                                                                                                                                                                                                                                                                                                                                                                                                                                                                                                                                                                                                                                   It's very good\n",
       "6                                                                                                                                                                                                                                                                                                                                                                                                                                                                              WORTH EVERY PENNY!For anyone who is avid reader, this is what you need. Even for someone who reads every now and then this is a good purchase.Talking about the device itself, the screen does look like an actual book, but the touch response could be better, at least that's what I felt. Everything else has already been mentioned by others.\n",
       "7                                                                                                                                                                                                                                                                                                                                                                                                                                                                                                                                               Compact, easy to use. Bought it a year or so back. This is my second Kindle. First one lasted more than six years. At 5.2k (when I bought it) it was a win-win. I think it has been discontinued now. This was the best one for students — a useful product at a manageable price.\n",
       "8                                                                                                                                                                                                                                                                                                                                                                                                                                                                                                                                                                                                                                                                                       It's good product.but u can not read pdf file easily,u have to convert and all.but for e-book it's fabulous.definately go if u are reader.\n",
       "9  Has a comfortable enough bezel - any smaller and holding one would be too hard due to how thin these things are.Works, no issues with loading or obtaining books - personal documents or other ebooks - however use calibre for ease of use in handling the different formats. Book prices in amazon shop are.. reasonable? most of the time.Resolution/pixel count is just enough for text - not great for pictures, backlight though white is comfortable for extended usage - battery is decent enough, you can get 20 to 24 hours of screen time from full charge assuming you flip pages once every minute (less flips is better I would assume) with wifi off - backlight doesn't seem to be very significant in power drawMajor useabillity issues :-1. No screen rotation - beyond a top to bottom for portrait and ..."
      ]
     },
     "execution_count": 30,
     "metadata": {},
     "output_type": "execute_result"
    }
   ],
   "source": [
    "rv=pd.DataFrame({'Reviews':review_list})\n",
    "pd.set_option('max_colwidth', 800)\n",
    "rv\n"
   ]
  },
  {
   "cell_type": "markdown",
   "id": "71e84798",
   "metadata": {},
   "source": [
    "# Preprocessing"
   ]
  },
  {
   "cell_type": "code",
   "execution_count": 31,
   "id": "8170dfb1",
   "metadata": {},
   "outputs": [
    {
     "name": "stderr",
     "output_type": "stream",
     "text": [
      "[nltk_data] Downloading package stopwords to C:\\Users\\Narasimhulu\n",
      "[nltk_data]     E\\AppData\\Roaming\\nltk_data...\n",
      "[nltk_data]   Package stopwords is already up-to-date!\n"
     ]
    }
   ],
   "source": [
    "import nltk  \n",
    "nltk.download('stopwords') \n",
    "from nltk.corpus import stopwords  \n",
    "from nltk.stem.porter import PorterStemmer"
   ]
  },
  {
   "cell_type": "code",
   "execution_count": 32,
   "id": "9a7e92d2",
   "metadata": {},
   "outputs": [
    {
     "data": {
      "text/plain": [
       "['i',\n",
       " 'me',\n",
       " 'my',\n",
       " 'myself',\n",
       " 'we',\n",
       " 'our',\n",
       " 'ours',\n",
       " 'ourselves',\n",
       " 'you',\n",
       " \"you're\",\n",
       " \"you've\",\n",
       " \"you'll\",\n",
       " \"you'd\",\n",
       " 'your',\n",
       " 'yours',\n",
       " 'yourself',\n",
       " 'yourselves',\n",
       " 'he',\n",
       " 'him',\n",
       " 'his',\n",
       " 'himself',\n",
       " 'she',\n",
       " \"she's\",\n",
       " 'her',\n",
       " 'hers',\n",
       " 'herself',\n",
       " 'it',\n",
       " \"it's\",\n",
       " 'its',\n",
       " 'itself',\n",
       " 'they',\n",
       " 'them',\n",
       " 'their',\n",
       " 'theirs',\n",
       " 'themselves',\n",
       " 'what',\n",
       " 'which',\n",
       " 'who',\n",
       " 'whom',\n",
       " 'this',\n",
       " 'that',\n",
       " \"that'll\",\n",
       " 'these',\n",
       " 'those',\n",
       " 'am',\n",
       " 'is',\n",
       " 'are',\n",
       " 'was',\n",
       " 'were',\n",
       " 'be',\n",
       " 'been',\n",
       " 'being',\n",
       " 'have',\n",
       " 'has',\n",
       " 'had',\n",
       " 'having',\n",
       " 'do',\n",
       " 'does',\n",
       " 'did',\n",
       " 'doing',\n",
       " 'a',\n",
       " 'an',\n",
       " 'the',\n",
       " 'and',\n",
       " 'but',\n",
       " 'if',\n",
       " 'or',\n",
       " 'because',\n",
       " 'as',\n",
       " 'until',\n",
       " 'while',\n",
       " 'of',\n",
       " 'at',\n",
       " 'by',\n",
       " 'for',\n",
       " 'with',\n",
       " 'about',\n",
       " 'against',\n",
       " 'between',\n",
       " 'into',\n",
       " 'through',\n",
       " 'during',\n",
       " 'before',\n",
       " 'after',\n",
       " 'above',\n",
       " 'below',\n",
       " 'to',\n",
       " 'from',\n",
       " 'up',\n",
       " 'down',\n",
       " 'in',\n",
       " 'out',\n",
       " 'on',\n",
       " 'off',\n",
       " 'over',\n",
       " 'under',\n",
       " 'again',\n",
       " 'further',\n",
       " 'then',\n",
       " 'once',\n",
       " 'here',\n",
       " 'there',\n",
       " 'when',\n",
       " 'where',\n",
       " 'why',\n",
       " 'how',\n",
       " 'all',\n",
       " 'any',\n",
       " 'both',\n",
       " 'each',\n",
       " 'few',\n",
       " 'more',\n",
       " 'most',\n",
       " 'other',\n",
       " 'some',\n",
       " 'such',\n",
       " 'no',\n",
       " 'nor',\n",
       " 'not',\n",
       " 'only',\n",
       " 'own',\n",
       " 'same',\n",
       " 'so',\n",
       " 'than',\n",
       " 'too',\n",
       " 'very',\n",
       " 's',\n",
       " 't',\n",
       " 'can',\n",
       " 'will',\n",
       " 'just',\n",
       " 'don',\n",
       " \"don't\",\n",
       " 'should',\n",
       " \"should've\",\n",
       " 'now',\n",
       " 'd',\n",
       " 'll',\n",
       " 'm',\n",
       " 'o',\n",
       " 're',\n",
       " 've',\n",
       " 'y',\n",
       " 'ain',\n",
       " 'aren',\n",
       " \"aren't\",\n",
       " 'couldn',\n",
       " \"couldn't\",\n",
       " 'didn',\n",
       " \"didn't\",\n",
       " 'doesn',\n",
       " \"doesn't\",\n",
       " 'hadn',\n",
       " \"hadn't\",\n",
       " 'hasn',\n",
       " \"hasn't\",\n",
       " 'haven',\n",
       " \"haven't\",\n",
       " 'isn',\n",
       " \"isn't\",\n",
       " 'ma',\n",
       " 'mightn',\n",
       " \"mightn't\",\n",
       " 'mustn',\n",
       " \"mustn't\",\n",
       " 'needn',\n",
       " \"needn't\",\n",
       " 'shan',\n",
       " \"shan't\",\n",
       " 'shouldn',\n",
       " \"shouldn't\",\n",
       " 'wasn',\n",
       " \"wasn't\",\n",
       " 'weren',\n",
       " \"weren't\",\n",
       " 'won',\n",
       " \"won't\",\n",
       " 'wouldn',\n",
       " \"wouldn't\"]"
      ]
     },
     "execution_count": 32,
     "metadata": {},
     "output_type": "execute_result"
    }
   ],
   "source": [
    "stopwords.words(\"english\")"
   ]
  },
  {
   "cell_type": "code",
   "execution_count": 33,
   "id": "cb6d0b61",
   "metadata": {},
   "outputs": [],
   "source": [
    "ps=PorterStemmer()"
   ]
  },
  {
   "cell_type": "code",
   "execution_count": 34,
   "id": "80e3c389",
   "metadata": {},
   "outputs": [],
   "source": [
    "def rvpreprocess(x):\n",
    "         x=re.sub('[^a-zA-Z ]', \"\", x)\n",
    "         x=x.lower()\n",
    "         x=x.split()  \n",
    "         x=[word  for word in x if word not in set(stopwords.words('english'))]  \n",
    "         x=[ps.stem(word) for word in x] \n",
    "         x=\" \".join(x)\n",
    "         return x"
   ]
  },
  {
   "cell_type": "code",
   "execution_count": 35,
   "id": "76ecd50a",
   "metadata": {},
   "outputs": [],
   "source": [
    "rv[\"Reviews\"]=rv[\"Reviews\"].apply(rvpreprocess)"
   ]
  },
  {
   "cell_type": "code",
   "execution_count": 36,
   "id": "79785525",
   "metadata": {},
   "outputs": [
    {
     "data": {
      "text/html": [
       "<div>\n",
       "<style scoped>\n",
       "    .dataframe tbody tr th:only-of-type {\n",
       "        vertical-align: middle;\n",
       "    }\n",
       "\n",
       "    .dataframe tbody tr th {\n",
       "        vertical-align: top;\n",
       "    }\n",
       "\n",
       "    .dataframe thead th {\n",
       "        text-align: right;\n",
       "    }\n",
       "</style>\n",
       "<table border=\"1\" class=\"dataframe\">\n",
       "  <thead>\n",
       "    <tr style=\"text-align: right;\">\n",
       "      <th></th>\n",
       "      <th>Reviews</th>\n",
       "    </tr>\n",
       "  </thead>\n",
       "  <tbody>\n",
       "    <tr>\n",
       "      <th>0</th>\n",
       "      <td>initi impress light weight beauti display easi hold easi read thank vani one buy kindlei use kindl app smartphon pc quit year skeptic invest mere kindl reader book need purchas separ howev lockdown forc spend time phone pc leav strain eye also distractionswhatspp youtub etc high read internet connect devicesthi reader solv problem one go light hold hour distract free improv product xx best strain eye mean carri work amount time effect make product xxi law student book articl court judgment pdf legal document use larg font size equal space lot margin consum line page better convert mobi format onlin transfer page document read landscap mode howev advis buy pdf read text smallin boxkindl data cabl length decent qualitybuild qualiti plastic bodi matt finish wont fall hand display glass al...</td>\n",
       "    </tr>\n",
       "    <tr>\n",
       "      <th>1</th>\n",
       "      <td>would first like tell student class th bought week agowhi bought thisi want build new habit read made target read atleast book week didnt want use textbook want see handl notlet go detail reviewlook feelth bodi plastic kind matt finish definit feel premium gadget easi hold scratch back visibl that problem still look good scratch screen dont think would ever eitherus interfac touchth overal interfac actual bad compar phone tablet sinc replac tablet book work complet distract free environ touch actual bad pretti much job sinc turn page compar book havent seen book touch screen yet addit featureread timeit feel like paper embed rememb one rel call photofram eye strain also help read pitch dark possibl real paper hard copi book still chose read dont struggl turn page bad like call smell pa...</td>\n",
       "    </tr>\n",
       "    <tr>\n",
       "      <th>2</th>\n",
       "      <td>best invest till date kindl devic habit product manag im amaz simplic effortlessli fall best goto devic built read best compar real book featur cater special book lover</td>\n",
       "    </tr>\n",
       "    <tr>\n",
       "      <th>3</th>\n",
       "      <td>initi skeptic resolut size devic go spend bomb higher resolut bigger screen size sourc read limit larg kindl store want first tri kindl convinc may upgrad lateri compar look screen book look good paper qualiti print qualiti book vari wide rang glossi paper recycl paper would say devic fall rang accept level compar book way look fine mecom size find size inch problemat size comfort enough read size better bigger size carri around put pocket singl hand read size devic good enough meth display flicker turn page problem turn set transit next page smooth even could bother turn option even trigger migrain headach passabl caus headach hour read definit put hope doesnt caus problem alway look away turn page caus problem still put offth experiment browser still experiment year cannot open docum...</td>\n",
       "    </tr>\n",
       "    <tr>\n",
       "      <th>4</th>\n",
       "      <td>use last month opinion itprosscreen day night differ usual lcdsip eink technolog n look n feel absolut like paper daytim outdoor extern light indoor ui user interfac good consid read guid includ easi navig u also make seper collect differ genr book weight lightweight easili handl u use without stand someth recommend buy carri pouch instead flip cover flip cover inde protect also make harder use dictionaryhighlightnot u variou dictionari u select word mean pop upif u use wikipedia u highlight text put footnot vocabulari builderword wise n xray featur use browsebluetooth experi browser work fine usual though highli depend upon websit u visit u connect bluetooth headphon use read loud mode usabl read mobiazwtxtdoc n ye pdf toocon thing dont like kindletouchsreen touch okish realli smooth ...</td>\n",
       "    </tr>\n",
       "  </tbody>\n",
       "</table>\n",
       "</div>"
      ],
      "text/plain": [
       "                                                                                                                                                                                                                                                                                                                                                                                                                                                                                                                                                                                                                                                                                                                                                                                                                           Reviews\n",
       "0  initi impress light weight beauti display easi hold easi read thank vani one buy kindlei use kindl app smartphon pc quit year skeptic invest mere kindl reader book need purchas separ howev lockdown forc spend time phone pc leav strain eye also distractionswhatspp youtub etc high read internet connect devicesthi reader solv problem one go light hold hour distract free improv product xx best strain eye mean carri work amount time effect make product xxi law student book articl court judgment pdf legal document use larg font size equal space lot margin consum line page better convert mobi format onlin transfer page document read landscap mode howev advis buy pdf read text smallin boxkindl data cabl length decent qualitybuild qualiti plastic bodi matt finish wont fall hand display glass al...\n",
       "1  would first like tell student class th bought week agowhi bought thisi want build new habit read made target read atleast book week didnt want use textbook want see handl notlet go detail reviewlook feelth bodi plastic kind matt finish definit feel premium gadget easi hold scratch back visibl that problem still look good scratch screen dont think would ever eitherus interfac touchth overal interfac actual bad compar phone tablet sinc replac tablet book work complet distract free environ touch actual bad pretti much job sinc turn page compar book havent seen book touch screen yet addit featureread timeit feel like paper embed rememb one rel call photofram eye strain also help read pitch dark possibl real paper hard copi book still chose read dont struggl turn page bad like call smell pa...\n",
       "2                                                                                                                                                                                                                                                                                                                                                                                                                                                                                                                                                                                                                                                         best invest till date kindl devic habit product manag im amaz simplic effortlessli fall best goto devic built read best compar real book featur cater special book lover\n",
       "3  initi skeptic resolut size devic go spend bomb higher resolut bigger screen size sourc read limit larg kindl store want first tri kindl convinc may upgrad lateri compar look screen book look good paper qualiti print qualiti book vari wide rang glossi paper recycl paper would say devic fall rang accept level compar book way look fine mecom size find size inch problemat size comfort enough read size better bigger size carri around put pocket singl hand read size devic good enough meth display flicker turn page problem turn set transit next page smooth even could bother turn option even trigger migrain headach passabl caus headach hour read definit put hope doesnt caus problem alway look away turn page caus problem still put offth experiment browser still experiment year cannot open docum...\n",
       "4  use last month opinion itprosscreen day night differ usual lcdsip eink technolog n look n feel absolut like paper daytim outdoor extern light indoor ui user interfac good consid read guid includ easi navig u also make seper collect differ genr book weight lightweight easili handl u use without stand someth recommend buy carri pouch instead flip cover flip cover inde protect also make harder use dictionaryhighlightnot u variou dictionari u select word mean pop upif u use wikipedia u highlight text put footnot vocabulari builderword wise n xray featur use browsebluetooth experi browser work fine usual though highli depend upon websit u visit u connect bluetooth headphon use read loud mode usabl read mobiazwtxtdoc n ye pdf toocon thing dont like kindletouchsreen touch okish realli smooth ..."
      ]
     },
     "execution_count": 36,
     "metadata": {},
     "output_type": "execute_result"
    }
   ],
   "source": [
    "rv.head()"
   ]
  },
  {
   "cell_type": "code",
   "execution_count": 37,
   "id": "30a3ef16",
   "metadata": {},
   "outputs": [
    {
     "name": "stdout",
     "output_type": "stream",
     "text": [
      "Requirement already satisfied: wordcloud in c:\\users\\narasimhulu e\\anaconda3\\lib\\site-packages (1.8.2.2)\n",
      "Requirement already satisfied: numpy>=1.6.1 in c:\\users\\narasimhulu e\\anaconda3\\lib\\site-packages (from wordcloud) (1.23.5)\n",
      "Requirement already satisfied: matplotlib in c:\\users\\narasimhulu e\\anaconda3\\lib\\site-packages (from wordcloud) (3.5.2)\n",
      "Requirement already satisfied: pillow in c:\\users\\narasimhulu e\\anaconda3\\lib\\site-packages (from wordcloud) (9.2.0)\n",
      "Requirement already satisfied: packaging>=20.0 in c:\\users\\narasimhulu e\\anaconda3\\lib\\site-packages (from matplotlib->wordcloud) (21.3)\n",
      "Requirement already satisfied: fonttools>=4.22.0 in c:\\users\\narasimhulu e\\anaconda3\\lib\\site-packages (from matplotlib->wordcloud) (4.25.0)\n",
      "Requirement already satisfied: cycler>=0.10 in c:\\users\\narasimhulu e\\anaconda3\\lib\\site-packages (from matplotlib->wordcloud) (0.11.0)\n",
      "Requirement already satisfied: kiwisolver>=1.0.1 in c:\\users\\narasimhulu e\\anaconda3\\lib\\site-packages (from matplotlib->wordcloud) (1.4.2)\n",
      "Requirement already satisfied: python-dateutil>=2.7 in c:\\users\\narasimhulu e\\anaconda3\\lib\\site-packages (from matplotlib->wordcloud) (2.8.2)\n",
      "Requirement already satisfied: pyparsing>=2.2.1 in c:\\users\\narasimhulu e\\anaconda3\\lib\\site-packages (from matplotlib->wordcloud) (3.0.9)\n",
      "Requirement already satisfied: six>=1.5 in c:\\users\\narasimhulu e\\anaconda3\\lib\\site-packages (from python-dateutil>=2.7->matplotlib->wordcloud) (1.16.0)\n",
      "Note: you may need to restart the kernel to use updated packages.\n"
     ]
    }
   ],
   "source": [
    "pip install wordcloud"
   ]
  },
  {
   "cell_type": "code",
   "execution_count": 38,
   "id": "3fc4a72d",
   "metadata": {},
   "outputs": [
    {
     "data": {
      "image/png": "[encoded data removed]",
      "text/plain": [
       "<Figure size 750x750 with 1 Axes>"
      ]
     },
     "metadata": {},
     "output_type": "display_data"
    }
   ],
   "source": [
    "from wordcloud import WordCloud\n",
    "wordcloud = WordCloud(height=2000, width=2000,max_words=100, background_color='white')\n",
    "wordcloud = wordcloud.generate(' '.join(rv['Reviews'].tolist()))\n",
    "plt.figure(figsize=(15,15),dpi=50)\n",
    "plt.imshow(wordcloud)\n",
    "plt.title(\"Most common words in the reviews\")\n",
    "plt.axis('off')\n",
    "plt.show()"
   ]
  },
  {
   "cell_type": "markdown",
   "id": "5fe64232",
   "metadata": {},
   "source": [
    "# Sentiment Analysis"
   ]
  },
  {
   "cell_type": "code",
   "execution_count": 39,
   "id": "48204306",
   "metadata": {},
   "outputs": [
    {
     "data": {
      "text/html": [
       "<div>\n",
       "<style scoped>\n",
       "    .dataframe tbody tr th:only-of-type {\n",
       "        vertical-align: middle;\n",
       "    }\n",
       "\n",
       "    .dataframe tbody tr th {\n",
       "        vertical-align: top;\n",
       "    }\n",
       "\n",
       "    .dataframe thead th {\n",
       "        text-align: right;\n",
       "    }\n",
       "</style>\n",
       "<table border=\"1\" class=\"dataframe\">\n",
       "  <thead>\n",
       "    <tr style=\"text-align: right;\">\n",
       "      <th></th>\n",
       "      <th>Reviews</th>\n",
       "      <th>sentiment_score</th>\n",
       "    </tr>\n",
       "  </thead>\n",
       "  <tbody>\n",
       "    <tr>\n",
       "      <th>0</th>\n",
       "      <td>initi impress light weight beauti display easi hold easi read thank vani one buy kindlei use kindl app smartphon pc quit year skeptic invest mere kindl reader book need purchas separ howev lockdown forc spend time phone pc leav strain eye also distractionswhatspp youtub etc high read internet connect devicesthi reader solv problem one go light hold hour distract free improv product xx best strain eye mean carri work amount time effect make product xxi law student book articl court judgment pdf legal document use larg font size equal space lot margin consum line page better convert mobi format onlin transfer page document read landscap mode howev advis buy pdf read text smallin boxkindl data cabl length decent qualitybuild qualiti plastic bodi matt finish wont fall hand display glass al...</td>\n",
       "      <td>0.187102</td>\n",
       "    </tr>\n",
       "    <tr>\n",
       "      <th>1</th>\n",
       "      <td>would first like tell student class th bought week agowhi bought thisi want build new habit read made target read atleast book week didnt want use textbook want see handl notlet go detail reviewlook feelth bodi plastic kind matt finish definit feel premium gadget easi hold scratch back visibl that problem still look good scratch screen dont think would ever eitherus interfac touchth overal interfac actual bad compar phone tablet sinc replac tablet book work complet distract free environ touch actual bad pretti much job sinc turn page compar book havent seen book touch screen yet addit featureread timeit feel like paper embed rememb one rel call photofram eye strain also help read pitch dark possibl real paper hard copi book still chose read dont struggl turn page bad like call smell pa...</td>\n",
       "      <td>0.117221</td>\n",
       "    </tr>\n",
       "    <tr>\n",
       "      <th>2</th>\n",
       "      <td>best invest till date kindl devic habit product manag im amaz simplic effortlessli fall best goto devic built read best compar real book featur cater special book lover</td>\n",
       "      <td>0.711429</td>\n",
       "    </tr>\n",
       "    <tr>\n",
       "      <th>3</th>\n",
       "      <td>initi skeptic resolut size devic go spend bomb higher resolut bigger screen size sourc read limit larg kindl store want first tri kindl convinc may upgrad lateri compar look screen book look good paper qualiti print qualiti book vari wide rang glossi paper recycl paper would say devic fall rang accept level compar book way look fine mecom size find size inch problemat size comfort enough read size better bigger size carri around put pocket singl hand read size devic good enough meth display flicker turn page problem turn set transit next page smooth even could bother turn option even trigger migrain headach passabl caus headach hour read definit put hope doesnt caus problem alway look away turn page caus problem still put offth experiment browser still experiment year cannot open docum...</td>\n",
       "      <td>0.214884</td>\n",
       "    </tr>\n",
       "    <tr>\n",
       "      <th>4</th>\n",
       "      <td>use last month opinion itprosscreen day night differ usual lcdsip eink technolog n look n feel absolut like paper daytim outdoor extern light indoor ui user interfac good consid read guid includ easi navig u also make seper collect differ genr book weight lightweight easili handl u use without stand someth recommend buy carri pouch instead flip cover flip cover inde protect also make harder use dictionaryhighlightnot u variou dictionari u select word mean pop upif u use wikipedia u highlight text put footnot vocabulari builderword wise n xray featur use browsebluetooth experi browser work fine usual though highli depend upon websit u visit u connect bluetooth headphon use read loud mode usabl read mobiazwtxtdoc n ye pdf toocon thing dont like kindletouchsreen touch okish realli smooth ...</td>\n",
       "      <td>0.170525</td>\n",
       "    </tr>\n",
       "  </tbody>\n",
       "</table>\n",
       "</div>"
      ],
      "text/plain": [
       "                                                                                                                                                                                                                                                                                                                                                                                                                                                                                                                                                                                                                                                                                                                                                                                                                           Reviews  \\\n",
       "0  initi impress light weight beauti display easi hold easi read thank vani one buy kindlei use kindl app smartphon pc quit year skeptic invest mere kindl reader book need purchas separ howev lockdown forc spend time phone pc leav strain eye also distractionswhatspp youtub etc high read internet connect devicesthi reader solv problem one go light hold hour distract free improv product xx best strain eye mean carri work amount time effect make product xxi law student book articl court judgment pdf legal document use larg font size equal space lot margin consum line page better convert mobi format onlin transfer page document read landscap mode howev advis buy pdf read text smallin boxkindl data cabl length decent qualitybuild qualiti plastic bodi matt finish wont fall hand display glass al...   \n",
       "1  would first like tell student class th bought week agowhi bought thisi want build new habit read made target read atleast book week didnt want use textbook want see handl notlet go detail reviewlook feelth bodi plastic kind matt finish definit feel premium gadget easi hold scratch back visibl that problem still look good scratch screen dont think would ever eitherus interfac touchth overal interfac actual bad compar phone tablet sinc replac tablet book work complet distract free environ touch actual bad pretti much job sinc turn page compar book havent seen book touch screen yet addit featureread timeit feel like paper embed rememb one rel call photofram eye strain also help read pitch dark possibl real paper hard copi book still chose read dont struggl turn page bad like call smell pa...   \n",
       "2                                                                                                                                                                                                                                                                                                                                                                                                                                                                                                                                                                                                                                                         best invest till date kindl devic habit product manag im amaz simplic effortlessli fall best goto devic built read best compar real book featur cater special book lover   \n",
       "3  initi skeptic resolut size devic go spend bomb higher resolut bigger screen size sourc read limit larg kindl store want first tri kindl convinc may upgrad lateri compar look screen book look good paper qualiti print qualiti book vari wide rang glossi paper recycl paper would say devic fall rang accept level compar book way look fine mecom size find size inch problemat size comfort enough read size better bigger size carri around put pocket singl hand read size devic good enough meth display flicker turn page problem turn set transit next page smooth even could bother turn option even trigger migrain headach passabl caus headach hour read definit put hope doesnt caus problem alway look away turn page caus problem still put offth experiment browser still experiment year cannot open docum...   \n",
       "4  use last month opinion itprosscreen day night differ usual lcdsip eink technolog n look n feel absolut like paper daytim outdoor extern light indoor ui user interfac good consid read guid includ easi navig u also make seper collect differ genr book weight lightweight easili handl u use without stand someth recommend buy carri pouch instead flip cover flip cover inde protect also make harder use dictionaryhighlightnot u variou dictionari u select word mean pop upif u use wikipedia u highlight text put footnot vocabulari builderword wise n xray featur use browsebluetooth experi browser work fine usual though highli depend upon websit u visit u connect bluetooth headphon use read loud mode usabl read mobiazwtxtdoc n ye pdf toocon thing dont like kindletouchsreen touch okish realli smooth ...   \n",
       "\n",
       "   sentiment_score  \n",
       "0         0.187102  \n",
       "1         0.117221  \n",
       "2         0.711429  \n",
       "3         0.214884  \n",
       "4         0.170525  "
      ]
     },
     "execution_count": 39,
     "metadata": {},
     "output_type": "execute_result"
    }
   ],
   "source": [
    "from textblob import TextBlob\n",
    "rv['sentiment_score'] = rv['Reviews'].apply(lambda x: TextBlob(x).sentiment[0] )\n",
    "rv[['Reviews','sentiment_score']].head()"
   ]
  },
  {
   "cell_type": "code",
   "execution_count": 40,
   "id": "a61f32a6",
   "metadata": {},
   "outputs": [],
   "source": [
    "## Defining function to assign sentiment category based on sentiment_score\n",
    "## Score Range -0.5 to 0.5 is considered as neutral\n",
    "def sentiment_category(score1):\n",
    "    if(score1 > 0.5):\n",
    "        return 'Positive'\n",
    "    elif(score1 < -0.5):\n",
    "        return 'Negative'\n",
    "    else:\n",
    "        return 'Neutral'"
   ]
  },
  {
   "cell_type": "code",
   "execution_count": 41,
   "id": "0ec90df1",
   "metadata": {},
   "outputs": [],
   "source": [
    "rv['sentiment'] = rv['sentiment_score'].apply(lambda x:sentiment_category(x))"
   ]
  },
  {
   "cell_type": "code",
   "execution_count": 42,
   "id": "7736cbc1",
   "metadata": {},
   "outputs": [
    {
     "data": {
      "text/html": [
       "<div>\n",
       "<style scoped>\n",
       "    .dataframe tbody tr th:only-of-type {\n",
       "        vertical-align: middle;\n",
       "    }\n",
       "\n",
       "    .dataframe tbody tr th {\n",
       "        vertical-align: top;\n",
       "    }\n",
       "\n",
       "    .dataframe thead th {\n",
       "        text-align: right;\n",
       "    }\n",
       "</style>\n",
       "<table border=\"1\" class=\"dataframe\">\n",
       "  <thead>\n",
       "    <tr style=\"text-align: right;\">\n",
       "      <th></th>\n",
       "      <th>Reviews</th>\n",
       "      <th>sentiment_score</th>\n",
       "      <th>sentiment</th>\n",
       "    </tr>\n",
       "  </thead>\n",
       "  <tbody>\n",
       "    <tr>\n",
       "      <th>0</th>\n",
       "      <td>initi impress light weight beauti display easi hold easi read thank vani one buy kindlei use kindl app smartphon pc quit year skeptic invest mere kindl reader book need purchas separ howev lockdown forc spend time phone pc leav strain eye also distractionswhatspp youtub etc high read internet connect devicesthi reader solv problem one go light hold hour distract free improv product xx best strain eye mean carri work amount time effect make product xxi law student book articl court judgment pdf legal document use larg font size equal space lot margin consum line page better convert mobi format onlin transfer page document read landscap mode howev advis buy pdf read text smallin boxkindl data cabl length decent qualitybuild qualiti plastic bodi matt finish wont fall hand display glass al...</td>\n",
       "      <td>0.187102</td>\n",
       "      <td>Neutral</td>\n",
       "    </tr>\n",
       "    <tr>\n",
       "      <th>1</th>\n",
       "      <td>would first like tell student class th bought week agowhi bought thisi want build new habit read made target read atleast book week didnt want use textbook want see handl notlet go detail reviewlook feelth bodi plastic kind matt finish definit feel premium gadget easi hold scratch back visibl that problem still look good scratch screen dont think would ever eitherus interfac touchth overal interfac actual bad compar phone tablet sinc replac tablet book work complet distract free environ touch actual bad pretti much job sinc turn page compar book havent seen book touch screen yet addit featureread timeit feel like paper embed rememb one rel call photofram eye strain also help read pitch dark possibl real paper hard copi book still chose read dont struggl turn page bad like call smell pa...</td>\n",
       "      <td>0.117221</td>\n",
       "      <td>Neutral</td>\n",
       "    </tr>\n",
       "    <tr>\n",
       "      <th>2</th>\n",
       "      <td>best invest till date kindl devic habit product manag im amaz simplic effortlessli fall best goto devic built read best compar real book featur cater special book lover</td>\n",
       "      <td>0.711429</td>\n",
       "      <td>Positive</td>\n",
       "    </tr>\n",
       "    <tr>\n",
       "      <th>3</th>\n",
       "      <td>initi skeptic resolut size devic go spend bomb higher resolut bigger screen size sourc read limit larg kindl store want first tri kindl convinc may upgrad lateri compar look screen book look good paper qualiti print qualiti book vari wide rang glossi paper recycl paper would say devic fall rang accept level compar book way look fine mecom size find size inch problemat size comfort enough read size better bigger size carri around put pocket singl hand read size devic good enough meth display flicker turn page problem turn set transit next page smooth even could bother turn option even trigger migrain headach passabl caus headach hour read definit put hope doesnt caus problem alway look away turn page caus problem still put offth experiment browser still experiment year cannot open docum...</td>\n",
       "      <td>0.214884</td>\n",
       "      <td>Neutral</td>\n",
       "    </tr>\n",
       "    <tr>\n",
       "      <th>4</th>\n",
       "      <td>use last month opinion itprosscreen day night differ usual lcdsip eink technolog n look n feel absolut like paper daytim outdoor extern light indoor ui user interfac good consid read guid includ easi navig u also make seper collect differ genr book weight lightweight easili handl u use without stand someth recommend buy carri pouch instead flip cover flip cover inde protect also make harder use dictionaryhighlightnot u variou dictionari u select word mean pop upif u use wikipedia u highlight text put footnot vocabulari builderword wise n xray featur use browsebluetooth experi browser work fine usual though highli depend upon websit u visit u connect bluetooth headphon use read loud mode usabl read mobiazwtxtdoc n ye pdf toocon thing dont like kindletouchsreen touch okish realli smooth ...</td>\n",
       "      <td>0.170525</td>\n",
       "      <td>Neutral</td>\n",
       "    </tr>\n",
       "  </tbody>\n",
       "</table>\n",
       "</div>"
      ],
      "text/plain": [
       "                                                                                                                                                                                                                                                                                                                                                                                                                                                                                                                                                                                                                                                                                                                                                                                                                           Reviews  \\\n",
       "0  initi impress light weight beauti display easi hold easi read thank vani one buy kindlei use kindl app smartphon pc quit year skeptic invest mere kindl reader book need purchas separ howev lockdown forc spend time phone pc leav strain eye also distractionswhatspp youtub etc high read internet connect devicesthi reader solv problem one go light hold hour distract free improv product xx best strain eye mean carri work amount time effect make product xxi law student book articl court judgment pdf legal document use larg font size equal space lot margin consum line page better convert mobi format onlin transfer page document read landscap mode howev advis buy pdf read text smallin boxkindl data cabl length decent qualitybuild qualiti plastic bodi matt finish wont fall hand display glass al...   \n",
       "1  would first like tell student class th bought week agowhi bought thisi want build new habit read made target read atleast book week didnt want use textbook want see handl notlet go detail reviewlook feelth bodi plastic kind matt finish definit feel premium gadget easi hold scratch back visibl that problem still look good scratch screen dont think would ever eitherus interfac touchth overal interfac actual bad compar phone tablet sinc replac tablet book work complet distract free environ touch actual bad pretti much job sinc turn page compar book havent seen book touch screen yet addit featureread timeit feel like paper embed rememb one rel call photofram eye strain also help read pitch dark possibl real paper hard copi book still chose read dont struggl turn page bad like call smell pa...   \n",
       "2                                                                                                                                                                                                                                                                                                                                                                                                                                                                                                                                                                                                                                                         best invest till date kindl devic habit product manag im amaz simplic effortlessli fall best goto devic built read best compar real book featur cater special book lover   \n",
       "3  initi skeptic resolut size devic go spend bomb higher resolut bigger screen size sourc read limit larg kindl store want first tri kindl convinc may upgrad lateri compar look screen book look good paper qualiti print qualiti book vari wide rang glossi paper recycl paper would say devic fall rang accept level compar book way look fine mecom size find size inch problemat size comfort enough read size better bigger size carri around put pocket singl hand read size devic good enough meth display flicker turn page problem turn set transit next page smooth even could bother turn option even trigger migrain headach passabl caus headach hour read definit put hope doesnt caus problem alway look away turn page caus problem still put offth experiment browser still experiment year cannot open docum...   \n",
       "4  use last month opinion itprosscreen day night differ usual lcdsip eink technolog n look n feel absolut like paper daytim outdoor extern light indoor ui user interfac good consid read guid includ easi navig u also make seper collect differ genr book weight lightweight easili handl u use without stand someth recommend buy carri pouch instead flip cover flip cover inde protect also make harder use dictionaryhighlightnot u variou dictionari u select word mean pop upif u use wikipedia u highlight text put footnot vocabulari builderword wise n xray featur use browsebluetooth experi browser work fine usual though highli depend upon websit u visit u connect bluetooth headphon use read loud mode usabl read mobiazwtxtdoc n ye pdf toocon thing dont like kindletouchsreen touch okish realli smooth ...   \n",
       "\n",
       "   sentiment_score sentiment  \n",
       "0         0.187102   Neutral  \n",
       "1         0.117221   Neutral  \n",
       "2         0.711429  Positive  \n",
       "3         0.214884   Neutral  \n",
       "4         0.170525   Neutral  "
      ]
     },
     "execution_count": 42,
     "metadata": {},
     "output_type": "execute_result"
    }
   ],
   "source": [
    "rv.head()"
   ]
  },
  {
   "cell_type": "code",
   "execution_count": 43,
   "id": "48198f12",
   "metadata": {},
   "outputs": [
    {
     "data": {
      "text/plain": [
       "Neutral     7\n",
       "Positive    3\n",
       "Name: sentiment, dtype: int64"
      ]
     },
     "execution_count": 43,
     "metadata": {},
     "output_type": "execute_result"
    }
   ],
   "source": [
    "## calculating the categories of sentiments and their counts\n",
    "rv['sentiment'].value_counts()\n"
   ]
  },
  {
   "cell_type": "code",
   "execution_count": 44,
   "id": "9cecad7c",
   "metadata": {},
   "outputs": [
    {
     "data": {
      "text/plain": [
       "<AxesSubplot:xlabel='sentiment', ylabel='count'>"
      ]
     },
     "execution_count": 44,
     "metadata": {},
     "output_type": "execute_result"
    },
    {
     "data": {
      "image/png": "[encoded data removed]",
      "text/plain": [
       "<Figure size 640x480 with 1 Axes>"
      ]
     },
     "metadata": {},
     "output_type": "display_data"
    }
   ],
   "source": [
    "sns.countplot(x=rv['sentiment'])"
   ]
  },
  {
   "cell_type": "code",
   "execution_count": null,
   "id": "1d39bb93",
   "metadata": {},
   "outputs": [],
   "source": []
  },
  {
   "cell_type": "code",
   "execution_count": null,
   "id": "d65b5203",
   "metadata": {},
   "outputs": [],
   "source": []
  },
  {
   "cell_type": "code",
   "execution_count": null,
   "id": "bf8642d5",
   "metadata": {},
   "outputs": [],
   "source": []
  }
 ],
 "metadata": {
  "kernelspec": {
   "display_name": "Python 3 (ipykernel)",
   "language": "python",
   "name": "python3"
  },
  "language_info": {
   "codemirror_mode": {
    "name": "ipython",
    "version": 3
   },
   "file_extension": ".py",
   "mimetype": "text/x-python",
   "name": "python",
   "nbconvert_exporter": "python",
   "pygments_lexer": "ipython3",
   "version": "3.9.13"
  }
 },
 "nbformat": 4,
 "nbformat_minor": 5
}
